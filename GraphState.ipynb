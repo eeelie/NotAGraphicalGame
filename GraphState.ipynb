{
 "cells": [
  {
   "cell_type": "code",
   "execution_count": 6,
   "metadata": {
    "collapsed": true
   },
   "outputs": [
    {
     "name": "stdout",
     "output_type": "stream",
     "text": [
      "Overwriting GraphState.py\n"
     ]
    }
   ],
   "source": [
    "%%writefile GraphState.py\n",
    "\n",
    "import matplotlib.pyplot as plt\n",
    "\n",
    "from BallClass import Ball\n",
    "\n",
    "# Get Ball Color for Plot\n",
    "def getBallColor(ball: Ball) -> str:\n",
    "    colors = {0: \"white\", 1: \"yellow\", 2: \"blue\", 3: \"red\", 4: \"purple\", 5: \"darkorange\",6: \"limegreen\", 7: \"brown\", 8: \"black\", 9: \"yellow\", 10: \"blue\", 11: \"red\", 12: \"purple\", 13: \"darkorange\", 14: \"limegreen\", 15: \"brown\"}\n",
    "\n",
    "    return colors.get(ball.ID)\n",
    "\n",
    "def graph_state(state: State):\n",
    "    # Create Plot\n",
    "    W_TABLE = 1.27\n",
    "    H_TABLE = 2.54\n",
    "    fig, ax = plt.subplots(figsize=(W_TABLE*4,H_TABLE*4))\n",
    "    plt.rcParams[\"hatch.linewidth\"] = 4\n",
    "\n",
    "    ax.margins(0.3)\n",
    "    ax.set_facecolor(\"green\")\n",
    "    ax.set_ylim(-H_TABLE/2, H_TABLE/2)\n",
    "    ax.set_xlim(-W_TABLE/2, W_TABLE/2)\n",
    "\n",
    "    for ball in balls.values():\n",
    "         color = getBallColor(ball)\n",
    "\n",
    "         if ball.team == \"stripe\":\n",
    "             plotBall = plt.Circle(ball.p, ball.radius, facecolor= color, edgecolor =\"white\", hatch =r\"-\")\n",
    "         else:\n",
    "             plotBall = plt.Circle(ball.p, ball.radius, facecolor= color, edgecolor =\"white\")\n",
    "\n",
    "         ax.add_patch(plotBall)\n",
    "\n",
    "    ax.get_yaxis().set_visible(False)\n",
    "    ax.get_xaxis().set_visible(False)\n",
    "\n",
    "    plt.show()\n"
   ]
  },
  {
   "cell_type": "code",
   "execution_count": null,
   "outputs": [],
   "source": [],
   "metadata": {
    "collapsed": false
   }
  }
 ],
 "metadata": {
  "kernelspec": {
   "display_name": "Python 3",
   "language": "python",
   "name": "python3"
  },
  "language_info": {
   "codemirror_mode": {
    "name": "ipython",
    "version": 2
   },
   "file_extension": ".py",
   "mimetype": "text/x-python",
   "name": "python",
   "nbconvert_exporter": "python",
   "pygments_lexer": "ipython2",
   "version": "2.7.6"
  }
 },
 "nbformat": 4,
 "nbformat_minor": 0
}
