{
 "cells": [
  {
   "cell_type": "markdown",
   "id": "cd1974f1",
   "metadata": {},
   "source": [
    "## Pool Simulator!\n",
    "\n",
    "We're making a retro pool simulator in which a user can input an angle and force to the cue ball and play a turn based game of pool."
   ]
  },
  {
   "cell_type": "code",
   "execution_count": 10,
   "id": "d6ad4a69",
   "metadata": {},
   "outputs": [
    {
     "name": "stdout",
     "output_type": "stream",
     "text": [
      "Collecting import_ipynb\n",
      "  Downloading import_ipynb-0.1.4-py3-none-any.whl (4.1 kB)\n",
      "Collecting nbformat\n",
      "  Downloading nbformat-5.7.0-py3-none-any.whl (77 kB)\n",
      "\u001b[2K     \u001b[90m━━━━━━━━━━━━━━━━━━━━━━━━━━━━━━━━━━━━━━━━\u001b[0m \u001b[32m77.1/77.1 kB\u001b[0m \u001b[31m2.0 MB/s\u001b[0m eta \u001b[36m0:00:00\u001b[0m\n",
      "\u001b[?25hRequirement already satisfied: IPython in /Users/haydenburt/opt/anaconda3/envs/myAPC524env/lib/python3.10/site-packages (from import_ipynb) (8.4.0)\n",
      "Requirement already satisfied: backcall in /Users/haydenburt/opt/anaconda3/envs/myAPC524env/lib/python3.10/site-packages (from IPython->import_ipynb) (0.2.0)\n",
      "Requirement already satisfied: appnope in /Users/haydenburt/opt/anaconda3/envs/myAPC524env/lib/python3.10/site-packages (from IPython->import_ipynb) (0.1.2)\n",
      "Requirement already satisfied: traitlets>=5 in /Users/haydenburt/opt/anaconda3/envs/myAPC524env/lib/python3.10/site-packages (from IPython->import_ipynb) (5.1.1)\n",
      "Requirement already satisfied: pygments>=2.4.0 in /Users/haydenburt/opt/anaconda3/envs/myAPC524env/lib/python3.10/site-packages (from IPython->import_ipynb) (2.11.2)\n",
      "Requirement already satisfied: jedi>=0.16 in /Users/haydenburt/opt/anaconda3/envs/myAPC524env/lib/python3.10/site-packages (from IPython->import_ipynb) (0.18.1)\n",
      "Requirement already satisfied: pickleshare in /Users/haydenburt/opt/anaconda3/envs/myAPC524env/lib/python3.10/site-packages (from IPython->import_ipynb) (0.7.5)\n",
      "Requirement already satisfied: stack-data in /Users/haydenburt/opt/anaconda3/envs/myAPC524env/lib/python3.10/site-packages (from IPython->import_ipynb) (0.2.0)\n",
      "Requirement already satisfied: setuptools>=18.5 in /Users/haydenburt/opt/anaconda3/envs/myAPC524env/lib/python3.10/site-packages (from IPython->import_ipynb) (63.4.1)\n",
      "Requirement already satisfied: decorator in /Users/haydenburt/opt/anaconda3/envs/myAPC524env/lib/python3.10/site-packages (from IPython->import_ipynb) (5.1.1)\n",
      "Requirement already satisfied: prompt-toolkit!=3.0.0,!=3.0.1,<3.1.0,>=2.0.0 in /Users/haydenburt/opt/anaconda3/envs/myAPC524env/lib/python3.10/site-packages (from IPython->import_ipynb) (3.0.20)\n",
      "Requirement already satisfied: matplotlib-inline in /Users/haydenburt/opt/anaconda3/envs/myAPC524env/lib/python3.10/site-packages (from IPython->import_ipynb) (0.1.6)\n",
      "Requirement already satisfied: pexpect>4.3 in /Users/haydenburt/opt/anaconda3/envs/myAPC524env/lib/python3.10/site-packages (from IPython->import_ipynb) (4.8.0)\n",
      "Requirement already satisfied: jupyter-core in /Users/haydenburt/opt/anaconda3/envs/myAPC524env/lib/python3.10/site-packages (from nbformat->import_ipynb) (4.10.0)\n",
      "Collecting fastjsonschema\n",
      "  Downloading fastjsonschema-2.16.2-py3-none-any.whl (22 kB)\n",
      "Collecting jsonschema>=2.6\n",
      "  Downloading jsonschema-4.17.3-py3-none-any.whl (90 kB)\n",
      "\u001b[2K     \u001b[90m━━━━━━━━━━━━━━━━━━━━━━━━━━━━━━━━━━━━━━━━\u001b[0m \u001b[32m90.4/90.4 kB\u001b[0m \u001b[31m3.0 MB/s\u001b[0m eta \u001b[36m0:00:00\u001b[0m\n",
      "\u001b[?25hRequirement already satisfied: parso<0.9.0,>=0.8.0 in /Users/haydenburt/opt/anaconda3/envs/myAPC524env/lib/python3.10/site-packages (from jedi>=0.16->IPython->import_ipynb) (0.8.3)\n",
      "Requirement already satisfied: attrs>=17.4.0 in /Users/haydenburt/opt/anaconda3/envs/myAPC524env/lib/python3.10/site-packages (from jsonschema>=2.6->nbformat->import_ipynb) (21.4.0)\n",
      "Collecting pyrsistent!=0.17.0,!=0.17.1,!=0.17.2,>=0.14.0\n",
      "  Downloading pyrsistent-0.19.2-cp310-cp310-macosx_10_9_universal2.whl (82 kB)\n",
      "\u001b[2K     \u001b[90m━━━━━━━━━━━━━━━━━━━━━━━━━━━━━━━━━━━━━━━━\u001b[0m \u001b[32m82.5/82.5 kB\u001b[0m \u001b[31m2.7 MB/s\u001b[0m eta \u001b[36m0:00:00\u001b[0m\n",
      "\u001b[?25hRequirement already satisfied: ptyprocess>=0.5 in /Users/haydenburt/opt/anaconda3/envs/myAPC524env/lib/python3.10/site-packages (from pexpect>4.3->IPython->import_ipynb) (0.7.0)\n",
      "Requirement already satisfied: wcwidth in /Users/haydenburt/opt/anaconda3/envs/myAPC524env/lib/python3.10/site-packages (from prompt-toolkit!=3.0.0,!=3.0.1,<3.1.0,>=2.0.0->IPython->import_ipynb) (0.2.5)\n",
      "Requirement already satisfied: executing in /Users/haydenburt/opt/anaconda3/envs/myAPC524env/lib/python3.10/site-packages (from stack-data->IPython->import_ipynb) (0.8.3)\n",
      "Requirement already satisfied: pure-eval in /Users/haydenburt/opt/anaconda3/envs/myAPC524env/lib/python3.10/site-packages (from stack-data->IPython->import_ipynb) (0.2.2)\n",
      "Requirement already satisfied: asttokens in /Users/haydenburt/opt/anaconda3/envs/myAPC524env/lib/python3.10/site-packages (from stack-data->IPython->import_ipynb) (2.0.5)\n",
      "Requirement already satisfied: six in /Users/haydenburt/opt/anaconda3/envs/myAPC524env/lib/python3.10/site-packages (from asttokens->stack-data->IPython->import_ipynb) (1.16.0)\n",
      "Installing collected packages: fastjsonschema, pyrsistent, jsonschema, nbformat, import_ipynb\n",
      "Successfully installed fastjsonschema-2.16.2 import_ipynb-0.1.4 jsonschema-4.17.3 nbformat-5.7.0 pyrsistent-0.19.2\n",
      "Note: you may need to restart the kernel to use updated packages.\n"
     ]
    }
   ],
   "source": [
    "pip install import_ipynb"
   ]
  },
  {
   "cell_type": "code",
   "execution_count": 1,
   "id": "fe0f5707",
   "metadata": {},
   "outputs": [
    {
     "name": "stdout",
     "output_type": "stream",
     "text": [
      "importing Jupyter notebook from BallClass.ipynb\n",
      "importing Jupyter notebook from StateClass.ipynb\n"
     ]
    },
    {
     "name": "stderr",
     "output_type": "stream",
     "text": [
      "/Users/haydenburt/opt/anaconda3/envs/myAPC524env/lib/python3.10/site-packages/nbformat/__init__.py:92: MissingIDFieldWarning: Code cell is missing an id field, this will become a hard error in future nbformat versions. You may want to use `normalize()` on your notebooks before validations (available since nbformat 5.1.4). Previous versions of nbformat are fixing this issue transparently, and will stop doing so in the future.\n",
      "  validate(nb)\n"
     ]
    }
   ],
   "source": [
    "# imports\n",
    "\n",
    "import numpy as np\n",
    "import matplotlib.pyplot as plt\n",
    "from __future__ import annotations\n",
    "from collections.abc import Callable\n",
    "import import_ipynb\n",
    "from BallClass import Ball\n",
    "from StateClass import State"
   ]
  },
  {
   "cell_type": "code",
   "execution_count": 13,
   "id": "e2e0a356",
   "metadata": {},
   "outputs": [
    {
     "name": "stdout",
     "output_type": "stream",
     "text": [
      "Overwriting Ball.py\n"
     ]
    }
   ],
   "source": [
    "%%writefile Ball.py\n",
    "\n",
    "import numpy as np\n",
    "from __future__ import annotations\n",
    "from collections.abc import Callable\n",
    "\n",
    "\n",
    "# Ball class\n",
    "\n",
    "class Ball():\n",
    "    position: tuple[float, float]\n",
    "    velocity: tuple[float,float]\n",
    "    mass: float\n",
    "    team: str\n",
    "\n",
    "    def __init__(self, p_0: tuple[float,float], v_0: tuple[float,float], mass: float, team: str):\n",
    "        position = (p_0[0],p_0[1])\n",
    "        velocity = (v_0[0],v_0[1])\n",
    "        mass = mass\n",
    "        team = team\n",
    "        \n",
    "    ''' does a ball colliding with another ball behavie differently than a ball colliding with the table?\n",
    "    if not, we can have just one collision function\n",
    "    \n",
    "    \n",
    "    I also don't know what the best way to model the ball, initially assuming 2d position and velocity vectors'''    \n",
    "        \n",
    "        \n",
    "    #collision with another ball --> is this actually the same as collision with the table?\n",
    "    def ballCollision(self, other: Ball, angle: float) -> Ball:\n",
    "        new_x  = ... # physics!\n",
    "        new_y  = ... # perpendicular physics!\n",
    "        new_vx = ... # derivative physics!\n",
    "        new_vy = ... # perpendicular derivative physics!\n",
    "        return self.__class__((new_x,new_y), (new_vx,new_vy), self.mass, self.team)\n",
    "    \n",
    "    \n",
    "    #collision with the wall\n",
    "    def wallCollision(self, angle: float) -> Ball:\n",
    "        new_x = ... # physics!\n",
    "        new_y = ... # perpendicular physics!\n",
    "        new_vx = ... # derivative physics!\n",
    "        new_vy = ... # perpendicular derivative physics!\n",
    "        return self.__class__((new_x,new_y), (new_vx,new_vy), self.mass, self.team)\n",
    "        \n"
   ]
  },
  {
   "cell_type": "code",
   "execution_count": 14,
   "id": "4afba6cd",
   "metadata": {},
   "outputs": [
    {
     "name": "stdout",
     "output_type": "stream",
     "text": [
      "Ball.py:34: \u001b[1m\u001b[31merror:\u001b[m Argument 1 to \u001b[m\u001b[1m\"Ball\"\u001b[m has incompatible type\n",
      "\u001b[m\u001b[1m\"Tuple[ellipsis, ellipsis]\"\u001b[m; expected \u001b[m\u001b[1m\"Tuple[float, float]\"\u001b[m\u001b[m\n",
      "\u001b[2;10m            return self.__class__((new_x,new_y), (new_vx,new_vy), self.mas...\u001b[m\n",
      "\u001b[31m                                  ^~~~~~~~~~~~~\u001b[m\n",
      "Ball.py:34: \u001b[1m\u001b[31merror:\u001b[m Argument 2 to \u001b[m\u001b[1m\"Ball\"\u001b[m has incompatible type\n",
      "\u001b[m\u001b[1m\"Tuple[ellipsis, ellipsis]\"\u001b[m; expected \u001b[m\u001b[1m\"Tuple[float, float]\"\u001b[m\u001b[m\n",
      "\u001b[2;10m            return self.__class__((new_x,new_y), (new_vx,new_vy), self.mas...\u001b[m\n",
      "\u001b[31m                                                 ^~~~~~~~~~~~~~~\u001b[m\n",
      "Ball.py:43: \u001b[1m\u001b[31merror:\u001b[m Argument 1 to \u001b[m\u001b[1m\"Ball\"\u001b[m has incompatible type\n",
      "\u001b[m\u001b[1m\"Tuple[ellipsis, ellipsis]\"\u001b[m; expected \u001b[m\u001b[1m\"Tuple[float, float]\"\u001b[m\u001b[m\n",
      "\u001b[2;10m            return self.__class__((new_x,new_y), (new_vx,new_vy), self.mas...\u001b[m\n",
      "\u001b[31m                                  ^~~~~~~~~~~~~\u001b[m\n",
      "Ball.py:43: \u001b[1m\u001b[31merror:\u001b[m Argument 2 to \u001b[m\u001b[1m\"Ball\"\u001b[m has incompatible type\n",
      "\u001b[m\u001b[1m\"Tuple[ellipsis, ellipsis]\"\u001b[m; expected \u001b[m\u001b[1m\"Tuple[float, float]\"\u001b[m\u001b[m\n",
      "\u001b[2;10m            return self.__class__((new_x,new_y), (new_vx,new_vy), self.mas...\u001b[m\n",
      "\u001b[31m                                                 ^~~~~~~~~~~~~~~\u001b[m\n",
      "\u001b[1m\u001b[31mFound 4 errors in 1 file (checked 1 source file)\u001b[m\n"
     ]
    }
   ],
   "source": [
    "!mypy --strict --pretty Ball.py"
   ]
  },
  {
   "cell_type": "code",
   "execution_count": 15,
   "id": "931a3b2c",
   "metadata": {},
   "outputs": [],
   "source": [
    "#physics simulator\n",
    "\n",
    "class State():\n",
    "    allBalls: list | dict\n",
    "    tableParams = list | dict\n",
    "    score: int\n",
    "    turn: int\n",
    "\n",
    "    def __init__(allBalls: list[Ball]): \n",
    "        ...\n",
    "\n",
    "class Simulator():\n",
    "    state: State\n",
    "    inputs: list | dict\n",
    "        \n",
    "    def __init__():\n",
    "        ..."
   ]
  },
  {
   "cell_type": "code",
   "execution_count": 16,
   "id": "4792a170",
   "metadata": {},
   "outputs": [],
   "source": [
    "#new game"
   ]
  },
  {
   "cell_type": "code",
   "execution_count": 17,
   "id": "04b62ac4",
   "metadata": {},
   "outputs": [],
   "source": [
    "#plotting trajectories"
   ]
  },
  {
   "cell_type": "code",
   "execution_count": 2,
   "metadata": {
    "collapsed": false
   },
   "outputs": [],
   "source": [
    "# Get Ball Color for Plot\n",
    "def getBallColor(ball: Ball):\n",
    "\n",
    "    colors = {0: \"white\", 1: \"yellow\", 2: \"blue\", 3: \"red\", 4: \"purple\", 5: \"darkorange\",6: \"limegreen\", 7: \"brown\", 8: \"black\", 9: \"yellow\", 10: \"blue\", 11: \"red\", 12: \"purple\", 13: \"darkorange\", 14: \"limegreen\", 15: \"brown\"}\n",
    "\n",
    "    return colors.get(ball.ID)\n",
    "\n"
   ]
  },
  {
   "cell_type": "code",
   "execution_count": 3,
   "id": "ca7bbe46",
   "metadata": {},
   "outputs": [],
   "source": [
    "ball_test = Ball(1,0.06,1,1,0,0)"
   ]
  },
  {
   "cell_type": "code",
   "execution_count": 4,
   "metadata": {
    "collapsed": false
   },
   "outputs": [
    {
     "name": "stdout",
     "output_type": "stream",
     "text": [
      "[Ball(ID=0, radius=0.06, pocket=False, p=[0.5430165611368676, -0.8351836739152405], v=[0, 0], team='cue'), Ball(ID=1, radius=0.06, pocket=False, p=[-0.6142563940431678, 0.12981331455499134], v=[0, 0], team='solid'), Ball(ID=2, radius=0.06, pocket=False, p=[0.18559530540432623, 0.007282959507888709], v=[0, 0], team='solid'), Ball(ID=3, radius=0.06, pocket=False, p=[-0.7263804314909125, 1.260083096854852], v=[0, 0], team='solid'), Ball(ID=4, radius=0.06, pocket=False, p=[0.8052116334147921, -0.3090516954017781], v=[0, 0], team='solid'), Ball(ID=5, radius=0.06, pocket=False, p=[0.15076263699835413, -2.40454779420228], v=[0, 0], team='solid'), Ball(ID=6, radius=0.06, pocket=False, p=[1.1264173057402647, 1.7010274707346213], v=[0, 0], team='solid'), Ball(ID=7, radius=0.06, pocket=False, p=[-0.3270057271235387, 1.2500162934848937], v=[0, 0], team='solid'), Ball(ID=8, radius=0.06, pocket=False, p=[-0.17912545927650614, -1.252416453382527], v=[0, 0], team='eight'), Ball(ID=9, radius=0.06, pocket=False, p=[0.7388287212471067, -2.2069425987103184], v=[0, 0], team='stripe'), Ball(ID=10, radius=0.06, pocket=False, p=[0.9493425247188334, 0.7956591492537886], v=[0, 0], team='stripe'), Ball(ID=11, radius=0.06, pocket=False, p=[0.5237811244069184, -1.9722596900712284], v=[0, 0], team='stripe'), Ball(ID=12, radius=0.06, pocket=False, p=[-0.5222701351013468, 2.3686164599732913], v=[0, 0], team='stripe'), Ball(ID=13, radius=0.06, pocket=False, p=[0.7599213559012497, -1.3552859559534718], v=[0, 0], team='stripe'), Ball(ID=14, radius=0.06, pocket=False, p=[0.07225404279402059, 1.0850147705921729], v=[0, 0], team='stripe'), Ball(ID=15, radius=0.06, pocket=False, p=[0.09211570219296461, -1.2644603952624294], v=[0, 0], team='stripe')]\n"
     ]
    }
   ],
   "source": [
    "# Example Ball and State Variables to implement Matplotlib\n",
    "balls = []\n",
    "for i in range(0, 16):\n",
    "    balls += [Ball(i, 0.06, np.random.uniform(-1.21, 1.21), np.random.uniform(-2.48, 2.48), 0, 0)]\n",
    "\n",
    "print(balls)\n"
   ]
  },
  {
   "cell_type": "code",
   "execution_count": 5,
   "metadata": {
    "collapsed": false
   },
   "outputs": [
    {
     "data": {
      "image/png": "[encoded data removed]",
      "text/plain": [
       "<Figure size 762x1524 with 1 Axes>"
      ]
     },
     "metadata": {},
     "output_type": "display_data"
    }
   ],
   "source": [
    "# Create Plot\n",
    "W_TABLE = 1.27\n",
    "H_TABLE = 2.54\n",
    "fig, ax = plt.subplots(figsize=(W_TABLE*6,H_TABLE*6))\n",
    "plt.rcParams[\"hatch.linewidth\"] = 4\n",
    "\n",
    "ax.margins(0.3)\n",
    "ax.set_facecolor(\"green\")\n",
    "ax.set_ylim(-H_TABLE, H_TABLE)\n",
    "ax.set_xlim(-W_TABLE, W_TABLE)\n",
    "\n",
    "for ball in balls:\n",
    "     color = getBallColor(ball)\n",
    "\n",
    "     if ball.team == \"stripe\":\n",
    "         plotBall = plt.Circle(ball.p, ball.radius, facecolor= color, edgecolor =\"white\", hatch =r\"-\")\n",
    "     else:\n",
    "         plotBall = plt.Circle(ball.p, ball.radius, facecolor= color, edgecolor =\"white\")\n",
    "\n",
    "     ax.add_patch(plotBall)\n",
    "\n",
    "ax.get_yaxis().set_visible(False)\n",
    "ax.get_xaxis().set_visible(False)\n",
    "\n",
    "plt.show()\n",
    "\n",
    "## Future Implementations:\n",
    "#  Animation\n",
    "#  Text Showing Points/Whose Turn is Next\n",
    "#  More Detailed Table Outline/Pockets\n"
   ]
  },
  {
   "cell_type": "code",
   "execution_count": 6,
   "id": "62d88c99",
   "metadata": {},
   "outputs": [
    {
     "data": {
      "text/plain": [
       "'stretch goals: \\n\\n - non-regulation non-euclidean pool tables, using a table class that takes in the number of sides and their lengths'"
      ]
     },
     "execution_count": 6,
     "metadata": {},
     "output_type": "execute_result"
    }
   ],
   "source": [
    "'''stretch goals: \n",
    "\n",
    " - non-regulation non-euclidean pool tables, using a table class that takes in the number of sides and their lengths'''"
   ]
  },
  {
   "cell_type": "code",
   "execution_count": null,
   "id": "daa5a3e2",
   "metadata": {},
   "outputs": [],
   "source": []
  }
 ],
 "metadata": {
  "kernelspec": {
   "display_name": "Python 3.10.4 ('myAPC524env')",
   "language": "python",
   "name": "python3"
  },
  "language_info": {
   "codemirror_mode": {
    "name": "ipython",
    "version": 3
   },
   "file_extension": ".py",
   "mimetype": "text/x-python",
   "name": "python",
   "nbconvert_exporter": "python",
   "pygments_lexer": "ipython3",
   "version": "3.10.4"
  },
  "vscode": {
   "interpreter": {
    "hash": "538f7790995d27f41a883c78f429329ca341551cfb1195178d0b8ec5088755c2"
   }
  }
 },
 "nbformat": 4,
 "nbformat_minor": 5
}
