{
 "cells": [
  {
   "cell_type": "markdown",
   "id": "cd1974f1",
   "metadata": {},
   "source": [
    "# Pool Simulator!\n",
    "\n",
    "I've been using this notebook to write and test the Player and Game classes and te main two-player loop of the game"
   ]
  },
  {
   "cell_type": "markdown",
   "id": "c8359557-4867-4ee6-bf7d-c701b244d46c",
   "metadata": {},
   "source": [
    "## Player Class"
   ]
  },
  {
   "cell_type": "code",
   "execution_count": 72,
   "id": "95cd5f52-7cd5-43e9-b0f6-151be4a4d1f0",
   "metadata": {},
   "outputs": [
    {
     "name": "stdout",
     "output_type": "stream",
     "text": [
      "Overwriting ./src/player/__init__.py\n"
     ]
    }
   ],
   "source": [
    "%%writefile ./src/player/__init__.py\n",
    "\n",
    "from __future__ import annotations\n",
    "import dataclasses\n",
    "\n",
    "@dataclasses.dataclass\n",
    "class Player():\n",
    "    '''\n",
    "    Player class keeps track of the player's name and team, and the balls they need to pocket to win the game\n",
    "    '''\n",
    "    name: str\n",
    "    team: str\n",
    "    balls_left: list[int]\n",
    "    down_to_the_eight: bool\n",
    "    \n",
    "    def __init__(self, name: str):\n",
    "        self.name = name\n",
    "        self.team = \"undefined\"\n",
    "        self.balls_left = [] \n",
    "        self.down_to_the_eight = False\n",
    "        \n",
    "    # initialize the player's list of balls to pocket and team class variable    \n",
    "    def assign_team(self, team: str) -> None:\n",
    "        '''\n",
    "        Initializes the balls_left list when the teams are assigned\n",
    "        '''\n",
    "        assert team == \"stripes\" or team == \"solids\", \"Not a valid team.\"\n",
    "      \n",
    "        self.team = team\n",
    "        \n",
    "        if team == \"solids\":\n",
    "            self.balls_left = [i for i in range(1,8)] #all solids\n",
    "        else:\n",
    "            self.balls_left = [i for i in range(9,16)] #all stripes\n",
    "        \n",
    "\n",
    "    # updates the balls left to win list\n",
    "    def update_balls_left(self, pocketed: list[int]):\n",
    "        \n",
    "        for i in range(len(pocketed)):\n",
    "            if pocketed[i] in self.balls_left:\n",
    "                self.balls_left.remove(pocketed[i])\n",
    "        \n",
    "        #if a player runs out of balls they are now down to the eight\n",
    "        if len(self.balls_left) == 0:\n",
    "            self.down_to_the_eight = True\n",
    "        "
   ]
  },
  {
   "cell_type": "markdown",
   "id": "2bd9eaae-220b-4015-a227-7acc21d993d4",
   "metadata": {},
   "source": [
    "## Player tests"
   ]
  },
  {
   "cell_type": "code",
   "execution_count": 74,
   "id": "8e86934b-32a7-472a-a439-b55b592eccf3",
   "metadata": {},
   "outputs": [
    {
     "name": "stdout",
     "output_type": "stream",
     "text": [
      "Writing ./tests/test_player.py\n"
     ]
    }
   ],
   "source": [
    "%%writefile ./tests/test_player.py\n",
    "\n",
    "form player import *\n",
    "\n",
    "def test_constructor():\n",
    "    ...\n",
    "    \n",
    "def test_assign_team():\n",
    "    ...\n",
    "\n",
    "def test_update_balls_left():\n",
    "    ...    "
   ]
  },
  {
   "cell_type": "markdown",
   "id": "041a0b7c-2ec6-4049-9cbe-e53ef0118b07",
   "metadata": {},
   "source": [
    "## Game Class"
   ]
  },
  {
   "cell_type": "code",
   "execution_count": 76,
   "id": "bfa631fe",
   "metadata": {},
   "outputs": [
    {
     "name": "stdout",
     "output_type": "stream",
     "text": [
      "Writing ./src/game/__init__.py\n"
     ]
    }
   ],
   "source": [
    "%%writefile ./src/game/__init__.py\n",
    "\n",
    "from __future__ import annotations\n",
    "import random\n",
    "import dataclasses\n",
    "from player import *\n",
    "\n",
    "#what team is ball number ID?    \n",
    "def ball_team(ID: int):\n",
    "    assert ID >= 0 and ID <= 15, \"Not a valid ball ID.\"\n",
    "\n",
    "    if ID >= 1 and ID <= 7:\n",
    "        return \"solids\"\n",
    "    elif ID >= 9 and ID <= 15:\n",
    "        return \"stripes\"\n",
    "    elif ID == 8:\n",
    "        return \"eight\"\n",
    "    elif ID == 0:\n",
    "        return \"cue\"  \n",
    "\n",
    "\n",
    "def other_player(this_player: int) -> int:\n",
    "    '''\n",
    "    returns the id of the other player\n",
    "    '''\n",
    "    assert this_player == 0 or this_player == 1, \"not a valid player ID\"\n",
    "    \n",
    "    if this_player == 0:\n",
    "        return 1\n",
    "    if this_player == 1:\n",
    "        return 0\n",
    "\n",
    "@dataclasses.dataclass\n",
    "class Game():\n",
    "    '''\n",
    "    Assuming I can receive a list of balls pocketed from State\n",
    "    and the dict with all balls still in play, which shouldnt be necessary\n",
    "    '''\n",
    "    players: list[Player, Player]\n",
    "    current_player_id: int #0 or 1\n",
    "    \n",
    "    def __init__(self, player1: Player, player2: Player):        \n",
    "        self.players = [player1, player2]\n",
    "        self.current_player_id = random.randint(0,1)    \n",
    "\n",
    "        \n",
    "    def start_game(self) -> State:\n",
    "        BALL_RAD = 0.05715/2\n",
    "        standard_ball_positions = [(0, 0.635), (-0.0286, 0.6846), (0.0288, 0.6848), (-0.0572, 0.7342), (0.00020, 0.7344), (0.0576, 0.7346), (-0.0858, 0.7838), (-0.0284, 0.784), (0.0289, 0.7842), (0.0864, 0.7844), (-0.1144, 0.8334), (-0.057, 0.8336), (0.0004, 0.8338), (0.0578, 0.834), (0.1152, 0.8342)]        \n",
    "        eight_pos = standard_ball_positions.pop(4)\n",
    "        cue_pos = (0, -0.635)\n",
    "        \n",
    "        # randomize ball positions\n",
    "        random.shuffle(standard_ball_positions)\n",
    "\n",
    "        # create ball objects\n",
    "        game_balls = {}\n",
    "        i = 0\n",
    "        for coords in standard_ball_positions:\n",
    "            if i == 0:\n",
    "                game_balls[i] = Ball(i, BALL_RAD, cue_pos[0], cue_pos[1], 0, 0)\n",
    "                i += 1\n",
    "            elif i == 8:\n",
    "                game_balls[i] = Ball(i, BALL_RAD, eight_pos[0], eight_pos[1], 0, 0)\n",
    "                i += 1\n",
    "\n",
    "            game_balls[i] = Ball(i, BALL_RAD, coords[0], coords[1], 0, 0)\n",
    "            i += 1\n",
    "            \n",
    "        # assign a team to each player\n",
    "        teams = [\"stripes\", \"solids\"]\n",
    "        random.shuffle(teams)\n",
    "        for i in range(2):\n",
    "            self.players[i].assign_team(teams[i])\n",
    "            #print(self.players[i].balls_left)\n",
    "        \n",
    "        # starting a state object and graphing it\n",
    "        initial_state = State(game_balls)\n",
    "        graph_state(initial_state)\n",
    "        return initial_state       \n",
    "    \n",
    "    \n",
    "    def next_player(self, pocketed: list[int]) -> int:\n",
    "        \"\"\"\n",
    "        To be ran at the end of each turn of the loop, updates current_player_id\n",
    "        can assume the first ball pocketed wasnt the eight ball, as pocketing the eight always ends the game\n",
    "        check for the eight before running this function\n",
    "        \n",
    "        might break if we somehow get in here and first_ball_team == \"eight\"\n",
    "        \"\"\"\n",
    "        \n",
    "        #no balls pocketed\n",
    "        if len(pocketed) == 0:\n",
    "            return other_player(self.current_player_id)\n",
    "            \n",
    "        first_ball_team = ball_team(pocketed[0])\n",
    "                   \n",
    "        # cue pocket scratch\n",
    "        if 0 in pocketed:\n",
    "            return other_player(self.current_player_id)\n",
    "        \n",
    "        # wrong ball scratch\n",
    "        if self.players[self.current_player_id].team != first_ball_team:\n",
    "            return other_player(self.current_player_id)\n",
    "        \n",
    "        # else case: if the self.players[current_player_id].team == first_ball_team, \n",
    "        # then keep current-player the same\n",
    "        return self.current_player_id\n"
   ]
  },
  {
   "cell_type": "markdown",
   "id": "d8ee9478-c5d5-49e4-ba53-4e35ee32340c",
   "metadata": {},
   "source": [
    "## Game tests"
   ]
  },
  {
   "cell_type": "code",
   "execution_count": 78,
   "id": "446df1f5-32bc-4532-a633-ab633016183f",
   "metadata": {},
   "outputs": [
    {
     "name": "stdout",
     "output_type": "stream",
     "text": [
      "Writing ./tests/test_game.py\n"
     ]
    }
   ],
   "source": [
    "%%writefile ./tests/test_game.py\n",
    "\n",
    "from game import *\n",
    "\n",
    "def test_ball_team():\n",
    "    ...\n",
    "    \n",
    "def test_other_player():\n",
    "    ...\n",
    "    \n",
    "def test_constructor():\n",
    "    ...\n",
    "\n",
    "def test_start_game():\n",
    "    ...\n",
    "    \n",
    "def test_next_player():\n",
    "    ...\n",
    "    "
   ]
  },
  {
   "cell_type": "markdown",
   "id": "f25b568e-2206-49c5-845e-1eb5f6b31df4",
   "metadata": {},
   "source": [
    "## Main Loop"
   ]
  },
  {
   "cell_type": "code",
   "execution_count": 79,
   "id": "1d6983ef-cf1a-426a-bc9b-6ae331d14695",
   "metadata": {},
   "outputs": [
    {
     "name": "stdout",
     "output_type": "stream",
     "text": [
      "Writing ./src/mainloop/__init__.py\n"
     ]
    }
   ],
   "source": [
    "%%writefile ./src/mainloop/__init__.py\n",
    "\n",
    "from __future__ import annotations\n",
    "from game import *\n",
    "from player import *\n",
    "from graphstate import *\n",
    "\n",
    "\n",
    "player1_name = input(\"Player 1, what's your name?\")\n",
    "player2_name = input(\"Player 2, what's your name?\")\n",
    "\n",
    "game = Game(Player(player1_name),Player(player2_name))\n",
    "running_state = game.start_game()\n",
    "\n",
    "print(f\"{player1_name}, your team is {game.players[0].team}\")\n",
    "print(f\"{player2_name}, your team is {game.players[1].team}\")\n",
    "\n",
    "def new_input():\n",
    "    force = float(input(\"Input a velocity in m/s\"))\n",
    "    angle = float(input(\"Input an angle in degrees\"))\n",
    "    return force, angle\n",
    "\n",
    "game_over = False\n",
    "#every run of the loop will be one turn of the game\n",
    "while not game_over:        \n",
    "       \n",
    "    #take input for that player\n",
    "    print(f\"{game.players[game.current_player_id].name}, your turn:\")\n",
    "    velocity, angle = new_input()\n",
    "\n",
    "    #update the state\n",
    "    running_state.update(velocity, angle)\n",
    "\n",
    "    pocketed = running_state.pocketed\n",
    "    print(f\"pocketed = {pocketed}\")\n",
    "\n",
    "    # update each player's balls left list\n",
    "    for i in range(2):\n",
    "        game.players[i].update_balls_left(pocketed)\n",
    "    \n",
    "    # output graph\n",
    "    graph_state(running_state)\n",
    "    \n",
    "    # end of game logic\n",
    "    if 8 in pocketed:\n",
    "        if game.players[self.current_player_id].down_to_the_eight:\n",
    "            print(f\"Game over! Player {game.current_player_id + 1} wins!\")\n",
    "        else:\n",
    "            print(f\"Game over! Player {game.current_player_id + 1} loses!\")\n",
    "        break\n",
    "\n",
    "    # figure out who plays next\n",
    "    game.current_player_id = game.next_player(pocketed)\n"
   ]
  },
  {
   "cell_type": "markdown",
   "id": "83ee6094-0991-4b1b-8009-031925271aa3",
   "metadata": {},
   "source": [
    "## Main Loop tests"
   ]
  },
  {
   "cell_type": "code",
   "execution_count": 80,
   "id": "b1817927-53bb-4be6-9d1c-6177c16885ee",
   "metadata": {},
   "outputs": [
    {
     "name": "stdout",
     "output_type": "stream",
     "text": [
      "Writing ./tests/test_mainloop.py\n"
     ]
    }
   ],
   "source": [
    "%%writefile ./tests/test_mainloop.py\n",
    "\n",
    "from mainloop import *\n",
    "\n",
    "def test_new_input():\n",
    "    ...\n",
    "    \n",
    "''' how do we test the loop?!'''"
   ]
  },
  {
   "cell_type": "code",
   "execution_count": null,
   "id": "e30569dd-813c-4553-a768-076fd5237b80",
   "metadata": {},
   "outputs": [],
   "source": []
  }
 ],
 "metadata": {
  "kernelspec": {
   "display_name": "Python 3.11.0 64-bit",
   "language": "python",
   "name": "python3"
  },
  "language_info": {
   "codemirror_mode": {
    "name": "ipython",
    "version": 3
   },
   "file_extension": ".py",
   "mimetype": "text/x-python",
   "name": "python",
   "nbconvert_exporter": "python",
   "pygments_lexer": "ipython3",
   "version": "3.11.0"
  },
  "vscode": {
   "interpreter": {
    "hash": "1a1af0ee75eeea9e2e1ee996c87e7a2b11a0bebd85af04bb136d915cefc0abce"
   }
  }
 },
 "nbformat": 4,
 "nbformat_minor": 5
}
