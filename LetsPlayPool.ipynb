{
 "cells": [
  {
   "cell_type": "markdown",
   "id": "cd1974f1",
   "metadata": {},
   "source": [
    "## Pool Simulator!\n",
    "\n",
    "We're making a retro pool simulator in which a user can input an angle and force to the cue ball and play a turn based game of pool."
   ]
  },
  {
   "cell_type": "code",
   "execution_count": 1,
   "id": "fe0f5707",
   "metadata": {},
   "outputs": [
    {
     "name": "stdout",
     "output_type": "stream",
     "text": [
      "importing Jupyter notebook from BallClass.ipynb\n",
      "importing Jupyter notebook from StateClass.ipynb\n"
     ]
    },
    {
     "name": "stderr",
     "output_type": "stream",
     "text": [
      "C:\\Users\\ayala\\AppData\\Local\\Packages\\PythonSoftwareFoundation.Python.3.10_qbz5n2kfra8p0\\LocalCache\\local-packages\\Python310\\site-packages\\nbformat\\__init__.py:92: MissingIDFieldWarning: Code cell is missing an id field, this will become a hard error in future nbformat versions. You may want to use `normalize()` on your notebooks before validations (available since nbformat 5.1.4). Previous versions of nbformat are fixing this issue transparently, and will stop doing so in the future.\n",
      "  validate(nb)\n"
     ]
    }
   ],
   "source": [
    "# imports\n",
    "\n",
    "import numpy as np\n",
    "import matplotlib.pyplot as plt\n",
    "from __future__ import annotations\n",
    "from collections.abc import Callable\n",
    "import import_ipynb\n",
    "from BallClass import Ball\n",
    "from StateClass import State"
   ]
  },
  {
   "cell_type": "code",
   "execution_count": 25,
   "id": "e2e0a356",
   "metadata": {},
   "outputs": [
    {
     "name": "stdout",
     "output_type": "stream",
     "text": [
      "Overwriting Ball.py\n"
     ]
    }
   ],
   "source": [
    "%%writefile Ball.py\n",
    "\n",
    "import numpy as np\n",
    "from __future__ import annotations\n",
    "from collections.abc import Callable\n",
    "\n",
    "\n",
    "# Ball class\n",
    "\n",
    "class Ball():\n",
    "    position: tuple[float, float]\n",
    "    velocity: tuple[float,float]\n",
    "    mass: float\n",
    "    team: str\n",
    "\n",
    "    def __init__(self, p_0: tuple[float,float], v_0: tuple[float,float], mass: float, team: str):\n",
    "        position = (p_0[0],p_0[1])\n",
    "        velocity = (v_0[0],v_0[1])\n",
    "        mass = mass\n",
    "        team = team\n",
    "        \n",
    "    ''' does a ball colliding with another ball behavie differently than a ball colliding with the table?\n",
    "    if not, we can have just one collision function\n",
    "    \n",
    "    \n",
    "    I also don't know what the best way to model the ball, initially assuming 2d position and velocity vectors'''    \n",
    "        \n",
    "        \n",
    "    #collision with another ball --> is this actually the same as collision with the table?\n",
    "    def ballCollision(self, other: Ball, angle: float) -> Ball:\n",
    "        new_x  = ... # physics!\n",
    "        new_y  = ... # perpendicular physics!\n",
    "        new_vx = ... # derivative physics!\n",
    "        new_vy = ... # perpendicular derivative physics!\n",
    "        return self.__class__((new_x,new_y), (new_vx,new_vy), self.mass, self.team)\n",
    "    \n",
    "    \n",
    "    #collision with the wall\n",
    "    def wallCollision(self, angle: float) -> Ball:\n",
    "        new_x = ... # physics!\n",
    "        new_y = ... # perpendicular physics!\n",
    "        new_vx = ... # derivative physics!\n",
    "        new_vy = ... # perpendicular derivative physics!\n",
    "        return self.__class__((new_x,new_y), (new_vx,new_vy), self.mass, self.team)\n",
    "        \n"
   ]
  },
  {
   "cell_type": "code",
   "execution_count": 17,
   "id": "4afba6cd",
   "metadata": {},
   "outputs": [
    {
     "name": "stderr",
     "output_type": "stream",
     "text": [
      "'mypy' is not recognized as an internal or external command,\n",
      "operable program or batch file.\n"
     ]
    }
   ],
   "source": [
    "!mypy --strict --pretty Ball.py"
   ]
  },
  {
   "cell_type": "code",
   "execution_count": 26,
   "id": "931a3b2c",
   "metadata": {},
   "outputs": [],
   "source": [
    "#physics simulator\n",
    "\n",
    "class State():\n",
    "    allBalls: list | dict\n",
    "    tableParams = list | dict\n",
    "    score: int\n",
    "    turn: int\n",
    "\n",
    "    def __init__(allBalls: list[Ball]): \n",
    "        ...\n",
    "\n",
    "class Simulator():\n",
    "    state: State\n",
    "    inputs: list | dict\n",
    "        \n",
    "    def __init__():\n",
    "        ..."
   ]
  },
  {
   "cell_type": "code",
   "execution_count": 27,
   "id": "4792a170",
   "metadata": {},
   "outputs": [],
   "source": [
    "#new game"
   ]
  },
  {
   "cell_type": "code",
   "execution_count": 28,
   "id": "04b62ac4",
   "metadata": {},
   "outputs": [],
   "source": [
    "#plotting trajectories"
   ]
  },
  {
   "cell_type": "code",
   "execution_count": 4,
   "outputs": [],
   "source": [
    "# Get Ball Color for Plot\n",
    "def getBallColor(ball: Ball):\n",
    "\n",
    "    colors = {0: \"white\", 1: \"yellow\", 2: \"blue\", 3: \"red\", 4: \"purple\", 5: \"darkorange\",6: \"limegreen\", 7: \"brown\", 8: \"black\", 9: \"yellow\", 10: \"blue\", 11: \"red\", 12: \"purple\", 13: \"darkorange\", 14: \"limegreen\", 15: \"brown\"}\n",
    "\n",
    "    return colors.get(ball.ID)\n",
    "\n"
   ],
   "metadata": {
    "collapsed": false
   }
  },
  {
   "cell_type": "code",
   "execution_count": 8,
   "outputs": [
    {
     "name": "stdout",
     "output_type": "stream",
     "text": [
      "[Ball(ID=0, radius=0.06, pocket=False, p=[-0.4937998840049771, 1.6896955539928649], v=[0, 0], team='cue'), Ball(ID=1, radius=0.06, pocket=False, p=[0.03691886295838498, -1.5906228019466875], v=[0, 0], team='solid'), Ball(ID=2, radius=0.06, pocket=False, p=[0.5744517416194366, 0.3843485673790328], v=[0, 0], team='solid'), Ball(ID=3, radius=0.06, pocket=False, p=[-0.30061470010357505, 0.7282754437735663], v=[0, 0], team='solid'), Ball(ID=4, radius=0.06, pocket=False, p=[-0.6412179167606701, 2.459640586173481], v=[0, 0], team='solid'), Ball(ID=5, radius=0.06, pocket=False, p=[-1.2027663810128328, -0.9313470750178674], v=[0, 0], team='solid'), Ball(ID=6, radius=0.06, pocket=False, p=[1.1326942091893484, 1.0468477322074436], v=[0, 0], team='solid'), Ball(ID=7, radius=0.06, pocket=False, p=[-0.45742626669079156, -0.9906136112493737], v=[0, 0], team='solid'), Ball(ID=8, radius=0.06, pocket=False, p=[-0.8887303436814169, -1.9150231209308357], v=[0, 0], team='8'), Ball(ID=9, radius=0.06, pocket=False, p=[-1.0689933752640446, 0.28802305148427365], v=[0, 0], team='stripe'), Ball(ID=10, radius=0.06, pocket=False, p=[0.9268657963218594, -1.6227832659074317], v=[0, 0], team='stripe'), Ball(ID=11, radius=0.06, pocket=False, p=[0.5013656311999, 2.3350171281390852], v=[0, 0], team='stripe'), Ball(ID=12, radius=0.06, pocket=False, p=[-0.4457911644989011, 1.6461038028107722], v=[0, 0], team='stripe'), Ball(ID=13, radius=0.06, pocket=False, p=[1.1991311497862611, -0.8943915093169059], v=[0, 0], team='stripe'), Ball(ID=14, radius=0.06, pocket=False, p=[-0.5770960219221773, 0.3614807176029755], v=[0, 0], team='stripe'), Ball(ID=15, radius=0.06, pocket=False, p=[-0.33862064610180687, -1.7362076629476628], v=[0, 0], team='stripe')]\n"
     ]
    }
   ],
   "source": [
    "# Example Ball and State Variables to implement Matplotlib\n",
    "balls = []\n",
    "for i in range(0, 16):\n",
    "    balls += [Ball(i, 0.06, np.random.uniform(-1.21, 1.21), np.random.uniform(-2.48, 2.48), 0, 0)]\n",
    "\n",
    "print(balls)\n"
   ],
   "metadata": {
    "collapsed": false
   }
  },
  {
   "cell_type": "code",
   "execution_count": 9,
   "outputs": [
    {
     "data": {
      "text/plain": "<Figure size 762x1524 with 1 Axes>",
      "image/png": "[encoded data removed]"
     },
     "metadata": {},
     "output_type": "display_data"
    }
   ],
   "source": [
    "# Create Plot\n",
    "W_TABLE = 1.27\n",
    "H_TABLE = 2.54\n",
    "fig, ax = plt.subplots(figsize=(W_TABLE*6,H_TABLE*6))\n",
    "plt.rcParams[\"hatch.linewidth\"] = 4\n",
    "\n",
    "ax.margins(0.3)\n",
    "ax.set_facecolor(\"green\")\n",
    "ax.set_ylim(-H_TABLE, H_TABLE)\n",
    "ax.set_xlim(-W_TABLE, W_TABLE)\n",
    "\n",
    "for ball in balls:\n",
    "     color = getBallColor(ball)\n",
    "\n",
    "     if ball.team == \"stripe\":\n",
    "         plotBall = plt.Circle(ball.p, ball.radius, facecolor= color, edgecolor =\"white\", hatch =r\"-\")\n",
    "     else:\n",
    "         plotBall = plt.Circle(ball.p, ball.radius, facecolor= color, edgecolor =\"white\")\n",
    "\n",
    "     ax.add_patch(plotBall)\n",
    "\n",
    "ax.get_yaxis().set_visible(False)\n",
    "ax.get_xaxis().set_visible(False)\n",
    "\n",
    "plt.show()\n",
    "\n",
    "## Future Implementations:\n",
    "#  Animation\n",
    "#  Text Showing Points/Whose Turn is Next\n",
    "#  More Detailed Table Outline/Pockets\n"
   ],
   "metadata": {
    "collapsed": false
   }
  },
  {
   "cell_type": "code",
   "execution_count": null,
   "id": "62d88c99",
   "metadata": {},
   "outputs": [],
   "source": [
    "'''stretch goals: \n",
    "\n",
    " - non-regulation non-euclidean pool tables, using a table class that takes in the number of sides and their lengths'''"
   ]
  }
 ],
 "metadata": {
  "kernelspec": {
   "display_name": "Python 3 (ipykernel)",
   "language": "python",
   "name": "python3"
  },
  "language_info": {
   "codemirror_mode": {
    "name": "ipython",
    "version": 3
   },
   "file_extension": ".py",
   "mimetype": "text/x-python",
   "name": "python",
   "nbconvert_exporter": "python",
   "pygments_lexer": "ipython3",
   "version": "3.9.12"
  }
 },
 "nbformat": 4,
 "nbformat_minor": 5
}
