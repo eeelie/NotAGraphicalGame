{
 "cells": [
  {
   "cell_type": "markdown",
   "id": "cd1974f1",
   "metadata": {},
   "source": [
    "## Pool Simulator!\n",
    "\n",
    "Main loop of the game, with alternating user input. Also currently includes the new Player class, which will probably become a new file on its own. Mostly what's missing rn is the logic to figure out what player should play at each turn of the loop, which is what i felt the need of a Player class for."
   ]
  },
  {
   "cell_type": "code",
   "execution_count": 1,
   "id": "fe0f5707",
   "metadata": {},
   "outputs": [
    {
     "name": "stdout",
     "output_type": "stream",
     "text": [
      "importing Jupyter notebook from BallClass.ipynb\n",
      "importing Jupyter notebook from StateClass.ipynb\n"
     ]
    },
    {
     "name": "stderr",
     "output_type": "stream",
     "text": [
      "C:\\Users\\ayala\\AppData\\Local\\Packages\\PythonSoftwareFoundation.Python.3.10_qbz5n2kfra8p0\\LocalCache\\local-packages\\Python310\\site-packages\\nbformat\\__init__.py:92: MissingIDFieldWarning: Code cell is missing an id field, this will become a hard error in future nbformat versions. You may want to use `normalize()` on your notebooks before validations (available since nbformat 5.1.4). Previous versions of nbformat are fixing this issue transparently, and will stop doing so in the future.\n",
      "  validate(nb)\n"
     ]
    }
   ],
   "source": [
    "# imports\n",
    "\n",
    "import numpy as np\n",
    "import matplotlib.pyplot as plt\n",
    "from __future__ import annotations\n",
    "from collections.abc import Callable\n",
    "import import_ipynb\n",
    "from BallClass import Ball\n",
    "from StateClass import State"
   ]
  },
  {
   "cell_type": "code",
   "execution_count": null,
   "id": "95cd5f52-7cd5-43e9-b0f6-151be4a4d1f0",
   "metadata": {},
   "outputs": [
    {
     "name": "stdout",
     "output_type": "stream",
     "text": [
      "Overwriting Ball.py\n"
     ]
    }
   ],
   "source": [
    "class Player():\n",
    "    '''\n",
    "    I felt the need for a Player class, to keep track of each players balls left to win,\n",
    "    whether they're down to the right ball, have won or lost the game. This will be use in the main loop\n",
    "    so we can just say what player did in each turn.\n",
    "    '''\n",
    "    name: str\n",
    "    ID: int\n",
    "    team: str\n",
    "    balls: list[int]\n",
    "    ballsLeft: int\n",
    "    eight: bool\n",
    "    winner: bool # will break the loop\n",
    "    loser: bool # will break the loop\n",
    "    \n",
    "    def __init__(self, name: int, ID: int):\n",
    "        self.name = name\n",
    "        self.ID = ID\n",
    "        self.team = \"undefined\"\n",
    "        self.balls = []\n",
    "        self. ballsLeft = len(self.balls)\n",
    "        self.downToTheEight = False\n",
    "        self.winner = False\n",
    "        self.loser = False\n",
    "    \n",
    "    # find the initial list of balls this player has to pocket to win\n",
    "    def balls_init(team: str):\n",
    "        assert team == \"stripes\" or team == \"solids\", \"Not a valid team.\"\n",
    "        \n",
    "        '''\n",
    "        doesn't currently account for balls pocketed before team assignment \n",
    "        might have to take in the list of all balls from state\n",
    "        '''\n",
    "        \n",
    "        if team == \"solids\":\n",
    "            self.balls = [i for i in range(1,8)] #all solids\n",
    "        else:\n",
    "            self.balls = [i for i in range(9,16)] #all stripes\n",
    "        \n",
    "    # initialize the player's list of balls to pocket and team class variable    \n",
    "    def set_team(team: str):\n",
    "        self.team = team\n",
    "        self.balls = self.balls_init(team)\n",
    "        self.ballsLeft = len(self.balls)\n",
    "        \n",
    "    #what team is this ball?    \n",
    "    def ball_whatTeam(ID: int):\n",
    "        assert ID >= 0 and ID <= 15, \"Not a valid ball ID.\"\n",
    "        \n",
    "        if ID >= 1 and ID <= 7:\n",
    "            return \"solid\"\n",
    "        elif ID >= 9 and ID <= 15:\n",
    "            return \"stripe\"\n",
    "        elif ID == 8:\n",
    "            return \"eight\"\n",
    "        elif ID == 0:\n",
    "            return \"cue\"\n",
    "        \n",
    "    def scratch():\n",
    "        '''\n",
    "        idk how to implement a scratch yet\n",
    "        next turn  logic goes here too, if you scratch it's not your turn again\n",
    "        '''\n",
    "        ...\n",
    "        \n",
    "    #if a player runs out of balls they either win or are now down to the eight\n",
    "    def ranOutOfBalls(self):\n",
    "        if self.downToTheEight:\n",
    "            self.winner = True\n",
    "        else:\n",
    "            self.DownToTheEight = True\n",
    "            self.balls.append(8)\n",
    "            ''' player plays again, next turn logic'''\n",
    "    \n",
    "    # what happens when you pocket each type of ball\n",
    "    def pocket(self, ball_ID: int):\n",
    "        \n",
    "        ball_team: str = self.ball_whatTeam(ball_ID)\n",
    "        \n",
    "        if ball_team == self.team:\n",
    "            self.balls.remove(ball_ID)\n",
    "            self.ballsLeft = len(self.balls)\n",
    "            ''' if you score you play again, next turn logic'''\n",
    "        \n",
    "        elif ball_team == \"eight\":\n",
    "            if self.DownToTheEight:\n",
    "                self.winner == True\n",
    "            else:\n",
    "                self.loser == True #pocket the eight too early\n",
    "        \n",
    "        # wrong team or cue means it scratched\n",
    "        else:\n",
    "            self.scratch()\n",
    "                "
   ]
  },
  {
   "cell_type": "code",
   "execution_count": null,
   "id": "cbed0a85-2bf6-4109-bc10-601f6dad42c6",
   "metadata": {},
   "outputs": [],
   "source": [
    "Player1 = Player(\"Jose\", 1)\n",
    "Player2 = Player(\"Elie\", 2) \n",
    "runnig_state = State(Player1.name, Player2.name)\n",
    "\n",
    "#every turn of the loop will be one turn\n",
    "'''\n",
    "while true:\n",
    "\n",
    "    - figure out whose turn it is!!!!!!\n",
    "    \n",
    "    - take input for that player\n",
    "    \n",
    "    - update the state\n",
    "    \n",
    "    - check if player scored a pocket\n",
    "    \n",
    "     > if pocket:\n",
    "         player.pocket()\n",
    "     > if scratch\n",
    "         player.scratch()\n",
    "\n",
    "    - figure out who plays next\n",
    "\n",
    "     \n",
    "     > check if player runs out of balls\n",
    "\n",
    "    \n",
    "    - output graph\n",
    "\n",
    "    -check if player wins or loses, break the loop\n",
    "\n",
    "'''"
   ]
  },
  {
   "cell_type": "markdown",
   "id": "ead0b4e3-4699-4e29-b38c-90489be11b99",
   "metadata": {},
   "source": [
    "## questions\n",
    "\n",
    "I'm assuming the inputs will be a force and an angle, I can get that from the player as input, but where does it go, how will it go in and affect the state?\n",
    "\n",
    "How do we get what balls went in from the state?\n",
    "\n",
    "\n",
    "## notes\n",
    "\n",
    "need to figure out how to implement logic for deciding who plays the next turn\n",
    "\n",
    "need to write tests\n"
   ]
  }
 ],
 "metadata": {
  "kernelspec": {
   "display_name": "Python 3 (ipykernel)",
   "language": "python",
   "name": "python3"
  },
  "language_info": {
   "codemirror_mode": {
    "name": "ipython",
    "version": 3
   },
   "file_extension": ".py",
   "mimetype": "text/x-python",
   "name": "python",
   "nbconvert_exporter": "python",
   "pygments_lexer": "ipython3",
   "version": "3.9.12"
  }
 },
 "nbformat": 4,
 "nbformat_minor": 5
}
