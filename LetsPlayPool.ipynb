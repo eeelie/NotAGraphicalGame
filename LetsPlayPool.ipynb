{
 "cells": [
  {
   "cell_type": "markdown",
   "id": "cd1974f1",
   "metadata": {},
   "source": [
    "## Pool Simulator!\n",
    "\n",
    "We're making a retro pool simulator in which a user can input an angle and force to the cue ball and play a turn based game of pool."
   ]
  },
  {
   "cell_type": "code",
   "execution_count": null,
   "id": "d6ad4a69",
   "metadata": {},
   "outputs": [],
   "source": [
    "pip install import_ipynb"
   ]
  },
  {
   "cell_type": "code",
   "execution_count": 1,
   "id": "fe0f5707",
   "metadata": {},
   "outputs": [],
   "source": [
    "# imports\n",
    "\n",
    "import numpy as np\n",
    "import matplotlib.pyplot as plt\n",
    "from __future__ import annotations\n",
    "from collections.abc import Callable\n",
    "import import_ipynb\n",
    "from BallClass import Ball\n",
    "from StateClass import State"
   ]
  },
  {
   "cell_type": "markdown",
   "id": "abfb5677",
   "metadata": {},
   "source": [
    "# Everything Below is Eli's work"
   ]
  },
  {
   "cell_type": "code",
   "execution_count": null,
   "id": "b5f7024c",
   "metadata": {},
   "outputs": [],
   "source": [
    "class Player():\n",
    "    '''\n",
    "    I felt the need for a Player class, to keep track of each players balls left to win,\n",
    "    whether they're down to the right ball, have won or lost the game. This will be use in the main loop\n",
    "    so we can just say what player did in each turn.\n",
    "    '''\n",
    "    name: str\n",
    "    ID: int\n",
    "    team: str\n",
    "    balls: list[int]\n",
    "    ballsLeft: int\n",
    "    eight: bool\n",
    "    winner: bool # will break the loop\n",
    "    loser: bool # will break the loop\n",
    "    \n",
    "    def __init__(self, name: int, ID: int):\n",
    "        self.name = name\n",
    "        self.ID = ID\n",
    "        self.team = \"undefined\"\n",
    "        self.balls = []\n",
    "        self. ballsLeft = len(self.balls)\n",
    "        self.downToTheEight = False\n",
    "        self.winner = False\n",
    "        self.loser = False\n",
    "    \n",
    "    # find the initial list of balls this player has to pocket to win\n",
    "    def balls_init(team: str):\n",
    "        assert team == \"stripes\" or team == \"solids\", \"Not a valid team.\"\n",
    "        \n",
    "        '''\n",
    "        doesn't currently account for balls pocketed before team assignment \n",
    "        might have to take in the list of all balls from state\n",
    "        '''\n",
    "        \n",
    "        if team == \"solids\":\n",
    "            self.balls = [i for i in range(1,8)] #all solids\n",
    "        else:\n",
    "            self.balls = [i for i in range(9,16)] #all stripes\n",
    "\n",
    "    # initialize the player's list of balls to pocket and team class variable    \n",
    "    def set_team(team: str):\n",
    "        self.team = team\n",
    "        self.balls = self.balls_init(team)\n",
    "        self.ballsLeft = len(self.balls)\n",
    "        \n",
    "    #what team is this ball?    \n",
    "    def ball_whatTeam(ID: int):\n",
    "        assert ID >= 0 and ID <= 15, \"Not a valid ball ID.\"\n",
    "        \n",
    "        if ID >= 1 and ID <= 7:\n",
    "            return \"solid\"\n",
    "        elif ID >= 9 and ID <= 15:\n",
    "            return \"stripe\"\n",
    "        elif ID == 8:\n",
    "            return \"eight\"\n",
    "        elif ID == 0:\n",
    "            return \"cue\"\n",
    "        \n",
    "    def scratch():\n",
    "        '''\n",
    "        idk how to implement a scratch yet\n",
    "        next turn  logic goes here too, if you scratch it's not your turn again\n",
    "        '''\n",
    "        ...\n",
    "        \n",
    "    #if a player runs out of balls they either win or are now down to the eight\n",
    "    def ranOutOfBalls(self):\n",
    "        if self.downToTheEight:\n",
    "            self.winner = True\n",
    "        else:\n",
    "            self.DownToTheEight = True\n",
    "            self.balls.append(8)\n",
    "            ''' player plays again, next turn logic'''\n",
    "            \n",
    "    # what happens when you pocket each type of ball\n",
    "    def pocket(self, ball_ID: int):\n",
    "        \n",
    "        ball_team: str = self.ball_whatTeam(ball_ID)\n",
    "        \n",
    "        if ball_team == self.team:\n",
    "            self.balls.remove(ball_ID)\n",
    "            self.ballsLeft = len(self.balls)\n",
    "            ''' if you score you play again, next turn logic'''\n",
    "        \n",
    "        elif ball_team == \"eight\":\n",
    "            if self.DownToTheEight:\n",
    "                self.winner == True\n",
    "            else:\n",
    "                self.loser == True #pocket the eight too early\n",
    "        \n",
    "        # wrong team or cue means it scratched\n",
    "        else:\n",
    "            self.scratch()"
   ]
  },
  {
   "cell_type": "markdown",
   "id": "c6d9c369",
   "metadata": {},
   "source": [
    "# Everything Below is Jose's work on Plotting"
   ]
  },
  {
   "cell_type": "code",
   "execution_count": null,
   "id": "633df6e2",
   "metadata": {},
   "outputs": [],
   "source": [
    "# Get Ball Color for Plot\n",
    "def getBallColor(ball: Ball):\n",
    "\n",
    "    colors = {0: \"white\", 1: \"yellow\", 2: \"blue\", 3: \"red\", 4: \"purple\", 5: \"darkorange\",6: \"limegreen\", 7: \"brown\", 8: \"black\", 9: \"yellow\", 10: \"blue\", 11: \"red\", 12: \"purple\", 13: \"darkorange\", 14: \"limegreen\", 15: \"brown\"}\n",
    "\n",
    "    return colors.get(ball.ID)\n",
    "\n"
   ]
  },
  {
   "cell_type": "code",
   "execution_count": null,
   "id": "ca7bbe46",
   "metadata": {},
   "outputs": [],
   "source": [
    "ball_test = Ball(1,0.06,1,1,0,0)"
   ]
  },
  {
   "cell_type": "code",
   "execution_count": null,
   "id": "adf0e26f",
   "metadata": {},
   "outputs": [],
   "source": [
    "# Example Ball and State Variables to implement Matplotlib\n",
    "balls = []\n",
    "for i in range(0, 16):\n",
    "    balls += [Ball(i, 0.06, np.random.uniform(-1.21, 1.21), np.random.uniform(-2.48, 2.48), 0, 0)]\n",
    "\n",
    "print(balls)\n"
   ]
  },
  {
   "cell_type": "code",
   "execution_count": null,
   "id": "6b44118e",
   "metadata": {},
   "outputs": [],
   "source": [
    "# Create Plot\n",
    "W_TABLE = 1.27\n",
    "H_TABLE = 2.54\n",
    "fig, ax = plt.subplots(figsize=(W_TABLE*6,H_TABLE*6))\n",
    "plt.rcParams[\"hatch.linewidth\"] = 4\n",
    "\n",
    "ax.margins(0.3)\n",
    "ax.set_facecolor(\"green\")\n",
    "ax.set_ylim(-H_TABLE, H_TABLE)\n",
    "ax.set_xlim(-W_TABLE, W_TABLE)\n",
    "\n",
    "for ball in balls:\n",
    "     color = getBallColor(ball)\n",
    "\n",
    "     if ball.team == \"stripe\":\n",
    "         plotBall = plt.Circle(ball.p, ball.radius, facecolor= color, edgecolor =\"white\", hatch =r\"-\")\n",
    "     else:\n",
    "         plotBall = plt.Circle(ball.p, ball.radius, facecolor= color, edgecolor =\"white\")\n",
    "\n",
    "     ax.add_patch(plotBall)\n",
    "\n",
    "ax.get_yaxis().set_visible(False)\n",
    "ax.get_xaxis().set_visible(False)\n",
    "\n",
    "plt.show()\n",
    "\n",
    "## Future Implementations:\n",
    "#  Animation\n",
    "#  Text Showing Points/Whose Turn is Next\n",
    "#  More Detailed Table Outline/Pockets\n"
   ]
  },
  {
   "cell_type": "code",
   "execution_count": null,
   "id": "62d88c99",
   "metadata": {},
   "outputs": [],
   "source": [
    "'''stretch goals: \n",
    "\n",
    " - non-regulation non-euclidean pool tables, using a table class that takes in the number of sides and their lengths'''"
   ]
  }
 ],
 "metadata": {
  "kernelspec": {
   "display_name": "Python 3",
   "language": "python",
   "name": "python3"
  },
  "language_info": {
   "codemirror_mode": {
    "name": "ipython",
    "version": 3
   },
   "file_extension": ".py",
   "mimetype": "text/x-python",
   "name": "python",
   "nbconvert_exporter": "python",
   "pygments_lexer": "ipython3",
   "version": "3.8.8"
  },
  "vscode": {
   "interpreter": {
    "hash": "538f7790995d27f41a883c78f429329ca341551cfb1195178d0b8ec5088755c2"
   }
  }
 },
 "nbformat": 4,
 "nbformat_minor": 5
}
