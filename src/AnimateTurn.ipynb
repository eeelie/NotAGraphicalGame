{
 "cells": [
  {
   "cell_type": "markdown",
   "source": [
    "## Animate Turn\n",
    "Animates all moves from last state to current state"
   ],
   "metadata": {
    "collapsed": false
   }
  },
  {
   "cell_type": "code",
   "execution_count": 21,
   "outputs": [
    {
     "name": "stdout",
     "output_type": "stream",
     "text": [
      "Writing src/animate/__init__.py\n"
     ]
    }
   ],
   "source": [
    "%%writefile src/animate/__init__.py\n",
    "\n",
    "import matplotlib.pyplot as plt\n",
    "import numpy as np\n",
    "from matplotlib import animation\n",
    "from ball import Ball\n",
    "from graphstate import *\n",
    "from state import state\n",
    "from functools import partial\n",
    "\n",
    "def animate(balls_to_graph: list[dict[int: Ball]]):\n",
    "    # Create Plot\n",
    "    W_TABLE = 1.27\n",
    "    H_TABLE = 2.54\n",
    "    fig, ax = plt.subplots(figsize=(W_TABLE*4,H_TABLE*4))\n",
    "    plt.rcParams[\"hatch.linewidth\"] = 4\n",
    "\n",
    "    ax.margins(0.3)\n",
    "    ax.set_facecolor(\"green\")\n",
    "    ax.set_ylim(-H_TABLE/2, H_TABLE/2)\n",
    "    ax.set_xlim(-W_TABLE/2, W_TABLE/2)\n",
    "\n",
    "    def init():\n",
    "        ball_patches = []\n",
    "        return []\n",
    "\n",
    "    def graph(i, ball_log: list[dict[int: Ball]]):\n",
    "        for circle in ax.findobj(match = type(ax.add_patch(plt.Circle((0,0), 5)))):\n",
    "            circle.remove()\n",
    "        ball_patches = []\n",
    "\n",
    "        balls = ball_log[i]\n",
    "        for ball in balls.values():\n",
    "            color = getBallColor(ball)\n",
    "            ball_patches = []\n",
    "\n",
    "            if ball.team == \"stripe\":\n",
    "                plotBall = plt.Circle(ball.p, ball.radius, facecolor= color, edgecolor =\"white\", hatch =r\"-\")\n",
    "            else:\n",
    "                plotBall = plt.Circle(ball.p, ball.radius, facecolor= color, edgecolor =\"white\")\n",
    "\n",
    "            ball_patches += [ax.add_patch(plotBall)]\n",
    "\n",
    "        return ball_patches\n",
    "\n",
    "    ax.get_yaxis().set_visible(False)\n",
    "    ax.get_xaxis().set_visible(False)\n",
    "\n",
    "    anim = animation.FuncAnimation(fig, partial(graph, ball_log=balls_to_graph), init_func=init, frames=len(balls_to_graph), interval=100, blit=True)\n",
    "\n",
    "    return anim\n",
    "\n",
    "\n"
   ],
   "metadata": {
    "collapsed": false
   }
  },
  {
   "cell_type": "code",
   "execution_count": null,
   "outputs": [],
   "source": [],
   "metadata": {
    "collapsed": false
   }
  }
 ],
 "metadata": {
  "kernelspec": {
   "display_name": "Python 3",
   "language": "python",
   "name": "python3"
  },
  "language_info": {
   "codemirror_mode": {
    "name": "ipython",
    "version": 2
   },
   "file_extension": ".py",
   "mimetype": "text/x-python",
   "name": "python",
   "nbconvert_exporter": "python",
   "pygments_lexer": "ipython2",
   "version": "2.7.6"
  }
 },
 "nbformat": 4,
 "nbformat_minor": 0
}
