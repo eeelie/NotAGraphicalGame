{
 "cells": [
  {
   "cell_type": "markdown",
   "id": "e3b2ecf0-f9b5-40fd-b0ca-1265b1f22481",
   "metadata": {},
   "source": [
    "# Player Class"
   ]
  },
  {
   "cell_type": "code",
   "execution_count": 4,
   "id": "d08a7ae8-d90b-49f1-a55f-51588ac75cf9",
   "metadata": {},
   "outputs": [
    {
     "name": "stdout",
     "output_type": "stream",
     "text": [
      "Writing src/player/__init__.py\n"
     ]
    }
   ],
   "source": [
    "%%writefile src/player/__init__.py\n",
    "\n",
    "from __future__ import annotations\n",
    "import dataclasses\n",
    "\n",
    "@dataclasses.dataclass\n",
    "class Player():\n",
    "    '''\n",
    "    Player class keeps track of the player's name and team, and the balls they need to pocket to win the game\n",
    "    '''\n",
    "    name: str\n",
    "    team: str\n",
    "    balls_left: list[int]\n",
    "    down_to_the_eight: bool\n",
    "    \n",
    "    def __init__(self, name: str):\n",
    "        self.name = name\n",
    "        self.team = \"undefined\"\n",
    "        self.balls_left = [] \n",
    "        self.down_to_the_eight = False\n",
    "        \n",
    "    # initialize the player's list of balls to pocket and team class variable    \n",
    "    def assign_team(self, team: str) -> None:\n",
    "        '''\n",
    "        Initializes the balls_left list when the teams are assigned\n",
    "        '''\n",
    "        if team != \"stripes\" and team != \"solids\": raise Exception(\"Not a valid team.\")\n",
    "\n",
    "\n",
    "        self.team = team\n",
    "        \n",
    "        if team == \"solids\":\n",
    "            self.balls_left = [i for i in range(1,8)] #all solids\n",
    "        else:\n",
    "            self.balls_left = [i for i in range(9,16)] #all stripes\n",
    "        \n",
    "\n",
    "    # updates the balls left to win list\n",
    "    def update_balls_left(self, pocketed: list[int]):\n",
    "        \n",
    "        for i in range(len(pocketed)):\n",
    "            if pocketed[i] in self.balls_left:\n",
    "                self.balls_left.remove(pocketed[i])\n",
    "        \n",
    "        #if a player runs out of balls they are now down to the eight\n",
    "        if len(self.balls_left) == 0:\n",
    "            self.down_to_the_eight = True\n",
    "        "
   ]
  },
  {
   "cell_type": "markdown",
   "id": "4998a1e9-a0d4-4dd5-b55c-e22b5243da06",
   "metadata": {},
   "source": [
    "## Player tests"
   ]
  },
  {
   "cell_type": "code",
   "execution_count": null,
   "id": "a02a2634-5e9d-4770-a378-01559900eec4",
   "metadata": {},
   "outputs": [],
   "source": [
    "#%%writefile ../tests/test_player.py\n",
    "\n",
    "from player import *\n",
    "\n",
    "def test_constructor():\n",
    "    ...\n",
    "    \n",
    "def test_assign_team():\n",
    "    ...\n",
    "\n",
    "def test_update_balls_left():\n",
    "    ...    "
   ]
  }
 ],
 "metadata": {
  "kernelspec": {
   "display_name": "Python 3.10.4 ('myAPC524env')",
   "language": "python",
   "name": "python3"
  },
  "language_info": {
   "codemirror_mode": {
    "name": "ipython",
    "version": 3
   },
   "file_extension": ".py",
   "mimetype": "text/x-python",
   "name": "python",
   "nbconvert_exporter": "python",
   "pygments_lexer": "ipython3",
   "version": "3.10.4"
  },
  "vscode": {
   "interpreter": {
    "hash": "538f7790995d27f41a883c78f429329ca341551cfb1195178d0b8ec5088755c2"
   }
  }
 },
 "nbformat": 4,
 "nbformat_minor": 5
}
