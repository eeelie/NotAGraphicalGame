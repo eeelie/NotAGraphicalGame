{
 "cells": [
  {
   "cell_type": "markdown",
   "id": "f25b568e-2206-49c5-845e-1eb5f6b31df4",
   "metadata": {},
   "source": [
    "## Main Loop"
   ]
  },
  {
   "cell_type": "code",
   "execution_count": 4,
   "id": "1d6983ef-cf1a-426a-bc9b-6ae331d14695",
   "metadata": {},
   "outputs": [
    {
     "name": "stdout",
     "output_type": "stream",
     "text": [
      "Overwriting LetsPlayPool.py\n"
     ]
    }
   ],
   "source": [
    "%%writefile LetsPlayPool.py\n",
    "\n",
    "from __future__ import annotations\n",
    "from game import *\n",
    "from visualize import *\n",
    "import datetime\n",
    "\n",
    "player1_name = input(\"Player 1, what's your name?\")\n",
    "player2_name = input(\"Player 2, what's your name?\")\n",
    "\n",
    "game = Game(player1_name,player2_name)\n",
    "game.start_game()\n",
    "\n",
    "print(f\"{player1_name}, your team is {game.players[0].team}\")\n",
    "print(f\"{player2_name}, your team is {game.players[1].team}\")\n",
    "\n",
    "game_over = False\n",
    "#every run of the loop will be one turn of the game\n",
    "while not game_over:        \n",
    "       \n",
    "    #take input for that player\n",
    "    print(f\"{game.current_player_name()}, your turn:\")\n",
    "    velocity, angle = take_input()\n",
    "\n",
    "    #update the state\n",
    "    game.update_state(velocity, angle)\n",
    "\n",
    "    pocketed = game.pocketed_this_turn()\n",
    "    \n",
    "\n",
    "    # update each player's balls left list\n",
    "    game.update_players()\n",
    "    \n",
    "    #output graph\n",
    "    graph_state(game.running_state)\n",
    "    print(f\"number of states to be graphed: {len(game.running_state.log)}\")\n",
    "    anim = animate(game.running_state.log)\n",
    "    time = datetime.datetime.now()\n",
    "    file_name = f\"{time.month}-{time.day}--{time.hour}-{time.minute}-{time.second}--animation.mp4\"\n",
    "    video_writer = animation.FFMpegWriter(fps=30)\n",
    "    anim.save(file_name, writer=video_writer)\n",
    "\n",
    "    open_visualization(file_name)\n",
    "\n",
    "    print(f\"The balls pocketed this turn were {*pocketed,}\")\n",
    "    \n",
    "    # end of game logic\n",
    "    if 8 in pocketed:\n",
    "        print(f\"Game over! {game.winner()} wins!\")\n",
    "        break\n",
    "\n",
    "    # figure out who plays next\n",
    "    game.current_player_id = game.next_player(pocketed)"
   ]
  },
  {
   "cell_type": "markdown",
   "id": "83ee6094-0991-4b1b-8009-031925271aa3",
   "metadata": {},
   "source": [
    "## Main Loop tests"
   ]
  },
  {
   "cell_type": "code",
   "execution_count": null,
   "id": "b1817927-53bb-4be6-9d1c-6177c16885ee",
   "metadata": {},
   "outputs": [],
   "source": [
    "%%writefile ./tests/test_mainloop.py\n",
    "\n",
    "from mainloop import *\n",
    "\n",
    "def test_new_input():\n",
    "    ...\n",
    "    \n",
    "''' how do we test the loop?!'''"
   ]
  },
  {
   "cell_type": "code",
   "execution_count": null,
   "id": "e30569dd-813c-4553-a768-076fd5237b80",
   "metadata": {},
   "outputs": [],
   "source": []
  }
 ],
 "metadata": {
  "kernelspec": {
   "display_name": "Python 3",
   "language": "python",
   "name": "python3"
  },
  "language_info": {
   "codemirror_mode": {
    "name": "ipython",
    "version": 3
   },
   "file_extension": ".py",
   "mimetype": "text/x-python",
   "name": "python",
   "nbconvert_exporter": "python",
   "pygments_lexer": "ipython3",
   "version": "3.10.9"
  },
  "vscode": {
   "interpreter": {
    "hash": "5d3f596e3bf94ce504266e932ca863c566a6b97cf2bb3768405f9fb5f9f2f615"
   }
  }
 },
 "nbformat": 4,
 "nbformat_minor": 5
}
