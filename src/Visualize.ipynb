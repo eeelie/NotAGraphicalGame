{
 "cells": [
  {
   "cell_type": "markdown",
   "metadata": {
    "collapsed": false
   },
   "source": [
    "## Animate Turn\n",
    "Animates all moves from last state to current state"
   ]
  },
  {
   "cell_type": "code",
   "execution_count": 1,
   "metadata": {
    "collapsed": false
   },
   "outputs": [
    {
     "name": "stdout",
     "output_type": "stream",
     "text": [
      "Overwriting visualize/__init__.py\n"
     ]
    }
   ],
   "source": [
    "%%writefile visualize/__init__.py\n",
    "\n",
    "import matplotlib.pyplot as plt\n",
    "import numpy as np\n",
    "from matplotlib import animation\n",
    "from ball import Ball\n",
    "from state import State\n",
    "from functools import partial\n",
    "from os import startfile as open_plot\n",
    "import datetime\n",
    "\n",
    "def animate(balls_to_graph: list[dict[int: Ball]]):\n",
    "    # Create Plot\n",
    "    W_TABLE = 1.27\n",
    "    H_TABLE = 2.54\n",
    "    fig, ax = plt.subplots(figsize=(W_TABLE*4,H_TABLE*4))\n",
    "    plt.rcParams[\"hatch.linewidth\"] = 4\n",
    "\n",
    "    ax.margins(0.3)\n",
    "    ax.set_facecolor(\"green\")\n",
    "    ax.set_ylim(-H_TABLE/2, H_TABLE/2)\n",
    "    ax.set_xlim(-W_TABLE/2, W_TABLE/2)\n",
    "\n",
    "    def init():\n",
    "        ball_patches = []\n",
    "        return []\n",
    "\n",
    "    def graph(i, ball_log: list[dict[int: Ball]]):\n",
    "        for circle in ax.findobj(match = type(ax.add_patch(plt.Circle((0,0), 5)))):\n",
    "            circle.remove()\n",
    "        ball_patches = []\n",
    "\n",
    "        balls = ball_log[i]\n",
    "        for ball in balls.values():\n",
    "            color = getBallColor(ball)\n",
    "            ball_patches = []\n",
    "\n",
    "            if ball.team == \"stripe\":\n",
    "                plotBall = plt.Circle(ball.p, ball.radius, facecolor= color, edgecolor =\"white\", hatch =r\"-\")\n",
    "            else:\n",
    "                plotBall = plt.Circle(ball.p, ball.radius, facecolor= color, edgecolor =\"white\")\n",
    "\n",
    "            ball_patches += [ax.add_patch(plotBall)]\n",
    "\n",
    "        return ball_patches\n",
    "\n",
    "    ax.get_yaxis().set_visible(False)\n",
    "    ax.get_xaxis().set_visible(False)\n",
    "\n",
    "    anim = animation.FuncAnimation(fig, partial(graph, ball_log=balls_to_graph), init_func=init, frames=len(balls_to_graph), interval=100, blit=True)\n",
    "\n",
    "    return anim\n",
    "\n",
    "# Get Ball Color for Plot\n",
    "def getBallColor(ball: Ball) -> str:\n",
    "    colors = {0: \"white\", 1: \"yellow\", 2: \"blue\", 3: \"red\", 4: \"purple\", 5: \"darkorange\",6: \"limegreen\", 7: \"brown\", 8: \"black\", 9: \"yellow\", 10: \"blue\", 11: \"red\", 12: \"purple\", 13: \"darkorange\", 14: \"limegreen\", 15: \"brown\"}\n",
    "\n",
    "    return colors.get(ball.ID)\n",
    "\n",
    "def graph_state(state: State):\n",
    "    # Create Plot\n",
    "    W_TABLE = 1.27\n",
    "    H_TABLE = 2.54\n",
    "    fig, ax = plt.subplots(figsize=(W_TABLE*2,H_TABLE*2))\n",
    "    plt.rcParams[\"hatch.linewidth\"] = 4\n",
    "\n",
    "    ax.margins(0.3)\n",
    "    ax.set_facecolor(\"green\")\n",
    "    ax.set_ylim(-H_TABLE/2, H_TABLE/2)\n",
    "    ax.set_xlim(-W_TABLE/2, W_TABLE/2)\n",
    "\n",
    "    for ball in state.balls.values():\n",
    "         color = getBallColor(ball)\n",
    "\n",
    "         if ball.team == \"stripe\":\n",
    "             plotBall = plt.Circle(ball.p, ball.radius, facecolor= color, edgecolor =\"white\", hatch =r\"-\")\n",
    "         else:\n",
    "             plotBall = plt.Circle(ball.p, ball.radius, facecolor= color, edgecolor =\"white\")\n",
    "\n",
    "         ax.add_patch(plotBall)\n",
    "\n",
    "    ax.get_yaxis().set_visible(False)\n",
    "    ax.get_xaxis().set_visible(False)\n",
    "\n",
    "    time = datetime.datetime.now()\n",
    "    file_name = f\"{time.month}-{time.day}--{time.hour}-{time.minute}-{time.second}--animation.jpg\"\n",
    "    plt.savefig(file_name, dpi=600)\n",
    "    open_visualization(file_name)\n",
    "\n",
    "def open_visualization(file_name: str):\n",
    "    if sys.platform == \"win32\":\n",
    "        open_plot(file_name)\n",
    "    else:\n",
    "        video_open = \"open\" if sys.platform == \"darwin\" else \"xdg-open\"\n",
    "        open_file.call([video_open, file_name])"
   ]
  },
  {
   "cell_type": "code",
   "execution_count": null,
   "metadata": {
    "collapsed": false
   },
   "outputs": [],
   "source": []
  }
 ],
 "metadata": {
  "kernelspec": {
   "display_name": "Python 3.10.0 ('APC524')",
   "language": "python",
   "name": "python3"
  },
  "language_info": {
   "codemirror_mode": {
    "name": "ipython",
    "version": 3
   },
   "file_extension": ".py",
   "mimetype": "text/x-python",
   "name": "python",
   "nbconvert_exporter": "python",
   "pygments_lexer": "ipython3",
   "version": "3.10.0"
  },
  "vscode": {
   "interpreter": {
    "hash": "b71433069ae9dc3687c2fb62f016a2e22477d91f2f31734f1ebc4493c08f27f9"
   }
  }
 },
 "nbformat": 4,
 "nbformat_minor": 0
}
