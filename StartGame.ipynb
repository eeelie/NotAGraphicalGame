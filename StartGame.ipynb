{
 "cells": [
  {
   "cell_type": "markdown",
   "metadata": {},
   "source": [
    "## StartGame\n",
    "\n",
    "This function initializes all the balls for a standard eight-ball pool game and initializes a state class to start a new game.\n",
    "\n"
   ]
  },
  {
   "cell_type": "code",
   "execution_count": null,
   "metadata": {
    "collapsed": false,
    "jupyter": {
     "outputs_hidden": false
    }
   },
   "outputs": [],
   "source": [
    "%%writefile StartGame.py\n",
    "\n",
    "from __future__ import annotations\n",
    "import random\n",
    "from GraphState import *\n",
    "from StateClass import State\n",
    "\n",
    "def start_game() -> State:\n",
    "    BALL_RAD = 0.05715/2\n",
    "    standard_ball_positions = [(0, 0.635), (-0.0286, 0.6846), (0.0288, 0.6848), (-0.0572, 0.7342), (0.00020, 0.7344), (0.0576, 0.7346), (-0.0858, 0.7838), (-0.0284, 0.784), (0.0289, 0.7842), (0.0864, 0.7844), (-0.1144, 0.8334), (-0.057, 0.8336), (0.0004, 0.8338), (0.0578, 0.834), (0.1152, 0.8342)]\n",
    "\n",
    "    eight_pos = standard_ball_positions.pop(4)\n",
    "    cue_pos = (0, -0.635)\n",
    "\n",
    "    # randomize ball positions\n",
    "    random.shuffle(standard_ball_positions)\n",
    "\n",
    "    # create ball objects\n",
    "    game_balls = {}\n",
    "    i = 0\n",
    "    for coords in standard_ball_positions:\n",
    "        if i == 0:\n",
    "            game_balls[i] = Ball(i, BALL_RAD, cue_pos[0], cue_pos[1], 0, 0)\n",
    "            i += 1\n",
    "        elif i == 8:\n",
    "            game_balls[i] = Ball(i, BALL_RAD, eight_pos[0], eight_pos[1], 0, 0)\n",
    "            i += 1\n",
    "\n",
    "        game_balls[i] = Ball(i, BALL_RAD, coords[0], coords[1], 0, 0)\n",
    "        i += 1\n",
    "\n",
    "\n",
    "    initial_state = State(game_balls)\n",
    "\n",
    "    graph_state(initial_state)\n",
    "\n",
    "    return initial_state\n"
   ]
  },
  {
   "cell_type": "code",
   "execution_count": null,
   "metadata": {
    "collapsed": false,
    "jupyter": {
     "outputs_hidden": false
    }
   },
   "outputs": [],
   "source": [
    "state_game = start_game()"
   ]
  },
  {
   "cell_type": "code",
   "execution_count": null,
   "metadata": {
    "collapsed": false,
    "jupyter": {
     "outputs_hidden": false
    }
   },
   "outputs": [],
   "source": [
    "## Stretch Goal: make sure corner balls are not the same team\n",
    "\n",
    "# def start_game_better():\n",
    "#\n",
    "#     BALL_RAD = 0.05715/2\n",
    "#     std_ball_pos = [(0, 0.635), (-0.0286, 0.6846), (0.0288, 0.6848), (-0.0572, 0.7342), (0.00020, 0.7344), (0.0576, 0.7346), (-0.0858, 0.7838), (-0.0284, 0.784), (0.0289, 0.7842), (0.0864, 0.7844), (-0.1144, 0.8334), (-0.057, 0.8336), (0.0004, 0.8338), (0.0578, 0.834), (0.1152, 0.8342)]\n",
    "#\n",
    "#     ball_nums = list(range(16))\n",
    "#     eight_pos = std_ball_pos.pop(4)\n",
    "#     cue_pos = (0, -0.635)\n",
    "#\n",
    "#     # randomize ball positions\n",
    "#     random.shuffle(ball_nums)\n",
    "#\n",
    "#     # create ball objects\n",
    "#     game_balls = []\n",
    "#\n",
    "#     for i in ball_nums:\n",
    "#         if i == 0:\n",
    "#             game_balls += [Ball(i, BALL_RAD, cue_pos[0], cue_pos[1], 0, 0)]\n",
    "#         elif i == 8:\n",
    "#             game_balls += [Ball(i, BALL_RAD, eight_pos[0], eight_pos[1], 0, 0)]\n",
    "#         else:\n",
    "#             coord = std_ball_pos.pop()\n",
    "#             game_balls += [Ball(i, BALL_RAD, coord[0], coord[1], 0, 0)]\n",
    "#\n",
    "#     graph_state(game_balls)\n",
    "#\n",
    "#     print(game_balls[11])\n",
    "#     print(game_balls[15])\n",
    "#\n",
    "#     if game_balls[11].team == game_balls[15].team:\n",
    "#         print(\"Corner balls are the same color\")\n",
    "#         i = 1\n",
    "#         while game_balls[i] == game_balls[11] and i != 8:\n",
    "#             i += 1\n",
    "#         pos = game_balls[i].p\n",
    "#         game_balls[i].p = game_balls[15].p\n",
    "#         game_balls[15].p = pos\n",
    "#         print(f\"{i} and 15 switched places!\")\n",
    "#\n",
    "#     graph_state(game_balls)\n",
    "#\n",
    "#     return game_balls\n"
   ]
  },
  {
   "cell_type": "code",
   "execution_count": null,
   "metadata": {
    "collapsed": false,
    "jupyter": {
     "outputs_hidden": false
    }
   },
   "outputs": [],
   "source": []
  }
 ],
 "metadata": {
  "kernelspec": {
   "display_name": "Python 3.11.0 64-bit",
   "language": "python",
   "name": "python3"
  },
  "language_info": {
   "codemirror_mode": {
    "name": "ipython",
    "version": 3
   },
   "file_extension": ".py",
   "mimetype": "text/x-python",
   "name": "python",
   "nbconvert_exporter": "python",
   "pygments_lexer": "ipython3",
   "version": "3.11.0"
  },
  "vscode": {
   "interpreter": {
    "hash": "1a1af0ee75eeea9e2e1ee996c87e7a2b11a0bebd85af04bb136d915cefc0abce"
   }
  }
 },
 "nbformat": 4,
 "nbformat_minor": 4
}
