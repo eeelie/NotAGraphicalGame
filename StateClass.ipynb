{
 "cells": [
  {
   "cell_type": "markdown",
   "id": "fa369cf7",
   "metadata": {},
   "source": [
    "## class State\n",
    "\n",
    "This class encodes the positions of the balls, dimensions of the table, and the state of the game."
   ]
  },
  {
   "cell_type": "code",
   "execution_count": 2,
   "id": "d551bb88",
   "metadata": {},
   "outputs": [],
   "source": [
    "import numpy as np\n",
    "import dataclasses\n",
    "\n",
    "\n",
    "@dataclasses.dataclass\n",
    "class State():\n",
    "    pass"
   ]
  },
  {
   "cell_type": "code",
   "execution_count": null,
   "id": "65fcf312",
   "metadata": {},
   "outputs": [],
   "source": []
  }
 ],
 "metadata": {
  "kernelspec": {
   "display_name": "Python [conda env:APC524]",
   "language": "python",
   "name": "conda-env-APC524-py"
  },
  "language_info": {
   "codemirror_mode": {
    "name": "ipython",
    "version": 3
   },
   "file_extension": ".py",
   "mimetype": "text/x-python",
   "name": "python",
   "nbconvert_exporter": "python",
   "pygments_lexer": "ipython3",
   "version": "3.10.0"
  }
 },
 "nbformat": 4,
 "nbformat_minor": 5
}
