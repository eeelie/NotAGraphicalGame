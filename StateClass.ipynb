{
 "cells": [
  {
   "cell_type": "markdown",
   "id": "fa369cf7",
   "metadata": {},
   "source": [
    "## class State()\n",
    "\n",
    "This class encodes the positions of the balls, dimensions of the table, and the state of the game.\n",
    "\n",
    "balls is a dict of ball objects that must be initialized in __init__, sorted by their ID. This could be a tuple, but a dict means we can easy update/modify a specific ball (such as the cue ball)\n",
    "\n",
    "team names are stored as strings\n",
    "\n",
    "turn indicates which team is about is playing (1 or 2)\n",
    "\n",
    "score indicates how many balls have been pocketed for each team [team 1 score, team 2 score]"
   ]
  },
  {
   "cell_type": "code",
   "execution_count": null,
   "id": "d551bb88",
   "metadata": {},
   "outputs": [],
   "source": [
    "import numpy as np\n",
    "import dataclasses\n",
    "\n",
    "\n",
    "@dataclasses.dataclass\n",
    "class State():\n",
    "    balls: dict\n",
    "    team_1 = str\n",
    "    team_2 = str\n",
    "    turn = int\n",
    "    score = list[int, int]\n",
    "    \n",
    "    W_TABLE = 1.27 # meters\n",
    "    H_TABLE = 2.54 # meters\n",
    "    BALL_RADIUS = 0.06 # meters\n",
    "    T = 0.01 # seconds\n",
    "    \n",
    "    def __init__(self, team_name_1: str, team_name_2: str):\n",
    "        self.team_1 = team_name_1\n",
    "        self.team_2 = team_name_2\n",
    "        turn = 1\n",
    "        score = [0,0]\n",
    "        \n",
    "        # make a whole bunch of balls and initial positions\n",
    "        \n",
    "    \n",
    "    def update():\n",
    "        \n",
    "        \"steps forward all balls and manages interactions\"\n",
    "        ...\n",
    "        "
   ]
  },
  {
   "cell_type": "markdown",
   "id": "0e765ac9",
   "metadata": {},
   "source": [
    "# Questions to be discussed\n",
    "globals..."
   ]
  },
  {
   "cell_type": "code",
   "execution_count": null,
   "id": "8cb98dab",
   "metadata": {},
   "outputs": [],
   "source": [
    "# Tests\n"
   ]
  }
 ],
 "metadata": {
  "kernelspec": {
   "display_name": "Python 3 (ipykernel)",
   "language": "python",
   "name": "python3"
  },
  "language_info": {
   "codemirror_mode": {
    "name": "ipython",
    "version": 3
   },
   "file_extension": ".py",
   "mimetype": "text/x-python",
   "name": "python",
   "nbconvert_exporter": "python",
   "pygments_lexer": "ipython3",
   "version": "3.9.12"
  }
 },
 "nbformat": 4,
 "nbformat_minor": 5
}
