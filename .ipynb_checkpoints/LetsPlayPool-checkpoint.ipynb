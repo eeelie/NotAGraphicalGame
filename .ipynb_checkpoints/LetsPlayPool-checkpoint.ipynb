{
 "cells": [
  {
   "cell_type": "markdown",
   "id": "aa27aa64",
   "metadata": {},
   "source": [
    "## Pool Simulator!\n",
    "\n",
    "We're making a retro pool simulator in which a user can input an angle and force to the cue ball and play a turn based game of pool."
   ]
  },
  {
   "cell_type": "code",
<<<<<<< Updated upstream
   "execution_count": null,
   "id": "0bc907b1",
=======
   "execution_count": 4,
   "id": "82a2f919",
>>>>>>> Stashed changes
   "metadata": {},
   "outputs": [],
   "source": [
    "# imports\n",
    "\n",
    "import numpy as np\n",
    "import matplotlib.pyplot as plt\n",
<<<<<<< Updated upstream
    "from __future__ import annotations\n",
    "from collections.abc import Callable"
=======
    "#from future import annotations"
>>>>>>> Stashed changes
   ]
  },
  {
   "cell_type": "code",
   "execution_count": null,
   "id": "7aef94a7",
   "metadata": {},
   "outputs": [],
   "source": [
    "%%writefile Ball.py\n",
    "\n",
    "import numpy as np\n",
    "from __future__ import annotations\n",
    "from collections.abc import Callable\n",
    "\n",
    "\n",
    "# Ball class\n",
    "\n",
    "class Ball():\n",
    "    position: tuple[float, float]\n",
    "    velocity: tuple[float,float]\n",
    "    mass: float\n",
    "    team: str\n",
    "\n",
    "    def __init__(self, p_0: tuple[float,float], v_0: tuple[float,float], mass: float, team: str):\n",
    "        position = (p_0[0],p_0[1])\n",
    "        velocity = (v_0[0],v_0[1])\n",
    "        mass = mass\n",
    "        team = team\n",
    "        \n",
    "    ''' does a ball colliding with another ball behavie differently than a ball colliding with the table?\n",
    "    if not, we can have just one collision function\n",
    "    \n",
    "    \n",
    "    I also don't know what the best way to model the ball, initially assuming 2d position and velocity vectors'''    \n",
    "        \n",
    "        \n",
    "    #collision with another ball --> is this actually the same as collision with the table?\n",
    "    def ballCollision(self, other: Ball, angle: float) -> Ball:\n",
    "        new_x  = ... # physics!\n",
    "        new_y  = ... # perpendicular physics!\n",
    "        new_vx = ... # derivative physics!\n",
    "        new_vy = ... # perpendicular derivative physics!\n",
    "        return self.__class__((new_x,new_y), (new_vx,new_vy), self.mass, self.team)\n",
    "    \n",
    "    \n",
    "    #collision with the wall\n",
    "    def wallCollision(self, angle: float) -> Ball:\n",
    "        new_x = ... # physics!\n",
    "        new_y = ... # perpendicular physics!\n",
    "        new_vx = ... # derivative physics!\n",
    "        new_vy = ... # perpendicular derivative physics!\n",
    "        return self.__class__((new_x,new_y), (new_vx,new_vy), self.mass, self.team)\n",
    "        \n"
   ]
  },
  {
   "cell_type": "code",
<<<<<<< Updated upstream
   "execution_count": null,
   "id": "c68b6664",
   "metadata": {},
   "outputs": [],
   "source": [
    "!mypy --strict --pretty Ball.py"
   ]
  },
  {
   "cell_type": "code",
   "execution_count": null,
   "id": "8dd22e39",
=======
   "execution_count": 6,
   "id": "37d578e1",
>>>>>>> Stashed changes
   "metadata": {},
   "outputs": [],
   "source": [
    "#physics simulator\n",
    "\n",
    "class State():\n",
    "    allBalls: list | dict\n",
    "    tableParams = list | dict\n",
    "    score: int\n",
    "    turn: int\n",
    "\n",
    "    def __init__(allBalls: list[Ball]): \n",
    "        ...\n",
    "\n",
    "class Simulator():\n",
    "    state: State\n",
    "    inputs: list | dict\n",
    "        \n",
    "    def __init__():\n",
    "        ..."
   ]
  },
  {
   "cell_type": "code",
   "execution_count": null,
   "id": "e5cc9e8b",
   "metadata": {},
   "outputs": [],
   "source": [
    "#new game"
   ]
  },
  {
   "cell_type": "code",
   "execution_count": null,
   "id": "7b4fd134",
   "metadata": {},
   "outputs": [],
   "source": [
    "#plotting trajectories"
   ]
  },
  {
   "cell_type": "code",
   "execution_count": null,
   "id": "760ed014",
   "metadata": {},
   "outputs": [],
   "source": [
    "'''stretch goals: \n",
    "\n",
    " - non-regulation non-euclidean pool tables, using a table class that takes in the number of sides and their lengths'''"
   ]
  }
 ],
 "metadata": {
  "kernelspec": {
   "display_name": "Python [conda env:APC524]",
   "language": "python",
   "name": "conda-env-APC524-py"
  },
  "language_info": {
   "codemirror_mode": {
    "name": "ipython",
    "version": 3
   },
   "file_extension": ".py",
   "mimetype": "text/x-python",
   "name": "python",
   "nbconvert_exporter": "python",
   "pygments_lexer": "ipython3",
   "version": "3.10.0"
  }
 },
 "nbformat": 4,
 "nbformat_minor": 5
}
