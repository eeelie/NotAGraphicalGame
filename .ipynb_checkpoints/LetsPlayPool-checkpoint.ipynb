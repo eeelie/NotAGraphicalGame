{
 "cells": [
  {
   "cell_type": "markdown",
   "id": "b3f271b0",
   "metadata": {},
   "source": [
    "## Pool Simulator!\n",
    "\n",
    "We're making a retro pool simulator in which a user can input an angle and force to the cue ball and play a turn based game of pool."
   ]
  },
  {
   "cell_type": "code",
   "execution_count": 7,
   "id": "82a2f919",
   "metadata": {
    "collapsed": true
   },
   "outputs": [
    {
     "ename": "ImportError",
     "evalue": "cannot import name 'annotations' from 'future' (C:\\Users\\elies\\anaconda3\\lib\\site-packages\\future\\__init__.py)",
     "output_type": "error",
     "traceback": [
      "\u001b[1;31m---------------------------------------------------------------------------\u001b[0m",
      "\u001b[1;31mImportError\u001b[0m                               Traceback (most recent call last)",
      "Input \u001b[1;32mIn [7]\u001b[0m, in \u001b[0;36m<cell line: 5>\u001b[1;34m()\u001b[0m\n\u001b[0;32m      3\u001b[0m \u001b[38;5;28;01mimport\u001b[39;00m \u001b[38;5;21;01mnumpy\u001b[39;00m \u001b[38;5;28;01mas\u001b[39;00m \u001b[38;5;21;01mnp\u001b[39;00m\n\u001b[0;32m      4\u001b[0m \u001b[38;5;28;01mimport\u001b[39;00m \u001b[38;5;21;01mmatplotlib\u001b[39;00m\u001b[38;5;21;01m.\u001b[39;00m\u001b[38;5;21;01mpyplot\u001b[39;00m \u001b[38;5;28;01mas\u001b[39;00m \u001b[38;5;21;01mplt\u001b[39;00m\n\u001b[1;32m----> 5\u001b[0m \u001b[38;5;28;01mfrom\u001b[39;00m \u001b[38;5;21;01mfuture\u001b[39;00m \u001b[38;5;28;01mimport\u001b[39;00m annotations\n",
      "\u001b[1;31mImportError\u001b[0m: cannot import name 'annotations' from 'future' (C:\\Users\\elies\\anaconda3\\lib\\site-packages\\future\\__init__.py)"
     ]
    }
   ],
   "source": [
    "# imports\n",
    "\n",
    "import numpy as np\n",
    "import matplotlib.pyplot as plt\n",
    "from future import annotations"
   ]
  },
  {
   "cell_type": "code",
   "execution_count": 5,
   "id": "30376e37",
   "metadata": {},
   "outputs": [],
   "source": [
    "# Ball class\n",
    "\n",
    "def Ball():\n",
    "    position: tuple[float, float]\n",
    "    velocity: float\n",
    "    team: str\n",
    "\n",
    "    \n",
    "    def __init__(x_0,y_0, team):\n",
    "        position = (x_0,y_0)\n",
    "        velocity = 0.0\n",
    "        team = team\n",
    "    \n",
    "    def ballCollision():\n",
    "        ...\n",
    "    \n",
    "    def wallCollision():\n",
    "        ...\n",
    "        "
   ]
  },
  {
   "cell_type": "code",
   "execution_count": 3,
   "id": "37d578e1",
   "metadata": {},
   "outputs": [],
   "source": [
    "#physics simulator\n",
    "\n",
    "def State():\n",
    "    allBalls: list | dict\n",
    "    tableParams = list | dict\n",
    "    score: int\n",
    "    turn: int\n",
    "\n",
    "    def __init__(): \n",
    "        ...\n",
    "\n",
    "def Simulator():\n",
    "    state: State\n",
    "    inputs: list | dict\n",
    "        \n",
    "    def __init__():\n",
    "        ..."
   ]
  },
  {
   "cell_type": "code",
   "execution_count": null,
   "id": "2c36e9d8",
   "metadata": {},
   "outputs": [],
   "source": [
    "#new game"
   ]
  },
  {
   "cell_type": "code",
   "execution_count": 4,
   "id": "56b5b3bd",
   "metadata": {},
   "outputs": [],
   "source": [
    "#plotting trajectories"
   ]
  },
  {
   "cell_type": "code",
   "execution_count": null,
   "id": "a0a02619",
   "metadata": {},
   "outputs": [],
   "source": [
    "'''stretch goals: \n",
    "\n",
    " - non-regulation non-euclidean pool tables, using a table class that takes in the number of sides and their lengths'''"
   ]
  }
 ],
 "metadata": {
  "kernelspec": {
   "display_name": "Python 3 (ipykernel)",
   "language": "python",
   "name": "python3"
  },
  "language_info": {
   "codemirror_mode": {
    "name": "ipython",
    "version": 3
   },
   "file_extension": ".py",
   "mimetype": "text/x-python",
   "name": "python",
   "nbconvert_exporter": "python",
   "pygments_lexer": "ipython3",
   "version": "3.9.12"
  }
 },
 "nbformat": 4,
 "nbformat_minor": 5
}
