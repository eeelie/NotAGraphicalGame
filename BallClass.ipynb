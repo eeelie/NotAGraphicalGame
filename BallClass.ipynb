{
 "cells": [
  {
   "cell_type": "markdown",
   "id": "34a41225",
   "metadata": {},
   "source": [
    "## class Ball()\n",
    "\n",
    "This class encodes a ball object with properties [ID, pocket, position, velocity]\n",
    "\n",
    "ID indicates the identity of the ball, [1,7] are one team, and [9, 15] are the other team. 8 is the eight-ball, and 0 is the cue ball\n",
    "\n",
    "pocket indicates whether the ball is in a pocket.\n",
    "\n",
    "p and v are both in the form of [x,y]"
   ]
  },
  {
   "cell_type": "code",
   "execution_count": 9,
   "id": "ce2632b3",
   "metadata": {},
   "outputs": [
    {
     "name": "stdout",
     "output_type": "stream",
     "text": [
      "Overwriting src/ball/__init__.py\n"
     ]
    }
   ],
   "source": [
    "%%writefile src/ball/__init__.py\n",
    "\n",
    "from __future__ import annotations\n",
    "import numpy as np\n",
    "import dataclasses\n",
    "\n",
    "@dataclasses.dataclass\n",
    "class Ball():\n",
    "    ID: int\n",
    "    radius: float\n",
    "    pocket: bool\n",
    "    p: list[float, float]\n",
    "    v: list[float, float]\n",
    "    team: str\n",
    "        \n",
    "    def __init__(self, ID: int, radius: float, x_0: float, y_0: float, v_mag: float, v_radians: float):\n",
    "        self.ID = ID\n",
    "        self.radius = radius\n",
    "        self.pocket = False\n",
    "        self.p = [x_0,y_0]\n",
    "        self.v = [v_mag,v_radians]\n",
    "        self.team = self.team_name()\n",
    "       \n",
    "    def team_name(self) -> str:\n",
    "        \"returns team name based on ball ID\"\n",
    "        if self.ID < 0 or self.ID > 15: raise Exception(\"Not a valid ball ID.\")\n",
    "        if self.ID >= 1 and self.ID <= 7:\n",
    "            return \"solid\"\n",
    "        elif self.ID >= 9 and self.ID <= 15:\n",
    "            return \"stripe\"\n",
    "        elif self.ID == 8:\n",
    "            return \"eight\"\n",
    "        elif self.ID == 0:\n",
    "            return \"cue\"\n",
    "\n",
    "    def time_step(self, dt) -> tuple:\n",
    "        \"steps forward position and velocity of ball\"\n",
    "        ACCELERATION = - 0.1 # meters/second^2\n",
    "        v_x = self.v[0]*np.cos(self.v[1])\n",
    "        v_y = self.v[0]*np.sin(self.v[1])\n",
    "        a_x = ACCELERATION * np.cos(self.v[1])\n",
    "        a_y = ACCELERATION * np.sin(self.v[1])\n",
    "        p_new = [self.p[0] + v_x*dt + 0.5*a_x*dt*dt, self.p[1] + v_y*dt + 0.5*a_y*dt*dt]\n",
    "        v_new = [((v_x+a_x*dt)**2+(v_y+a_y*dt)**2)**0.5, self.v[1]]\n",
    "        self.p = p_new\n",
    "        self.v = v_new\n",
    "    \n",
    "    def collides_with(self,other) -> bool :\n",
    "        \"returns true if ball is in collision with other ball object\"\n",
    "        dist = ((self.p[0]-other.p[0])**2+(self.p[1]-other.p[1])**2)**0.5\n",
    "        if dist <= self.radius+other.radius:\n",
    "            return True\n",
    "        else:\n",
    "            return False\n",
    "    \n",
    "    def collides_with_table(self, w: float, h: float) -> bool :\n",
    "        \"returns true if ball is touching either an edge or a pocket\"\n",
    "        if self.p[0]+self.radius >= w/2:\n",
    "            return True\n",
    "        elif self.p[0]-self.radius <= -w/2:\n",
    "            return True\n",
    "        elif self.p[1]+self.radius >= h/2:\n",
    "            return True\n",
    "        elif self.p[1]-self.radius <= -h/2:\n",
    "            return True\n",
    "        else:\n",
    "            return False\n",
    "\n",
    "    def in_pocket(self, w: float, h: float) -> bool :\n",
    "        \"returns true if ball is colliding with table and center is within pocket regions\"\n",
    "        if self.collides_with_table(w,h) == False : return False\n",
    "       \n",
    "        SIDE_POCKET_W = 0.127 #m\n",
    "        CORNER_POCKET_W = 0.114 #m\n",
    "\n",
    "        if SIDE_POCKET_W/2 > self.p[1] > -SIDE_POCKET_W/2 : \n",
    "            return True\n",
    "        elif h/2-CORNER_POCKET_W >= self.p[1] >= CORNER_POCKET_W-h/2 :\n",
    "            return False\n",
    "        elif w/2-CORNER_POCKET_W >= self.p[0] >= CORNER_POCKET_W-w/2 :\n",
    "            return False\n",
    "        else:\n",
    "            return True\n"
   ]
  },
  {
   "cell_type": "code",
   "execution_count": null,
   "id": "f7fdbf9d",
   "metadata": {},
   "outputs": [],
   "source": []
  }
 ],
 "metadata": {
  "kernelspec": {
   "display_name": "Python 3 (ipykernel)",
   "language": "python",
   "name": "python3"
  },
  "language_info": {
   "codemirror_mode": {
    "name": "ipython",
    "version": 3
   },
   "file_extension": ".py",
   "mimetype": "text/x-python",
   "name": "python",
   "nbconvert_exporter": "python",
   "pygments_lexer": "ipython3",
   "version": "3.10.4"
  },
  "vscode": {
   "interpreter": {
    "hash": "538f7790995d27f41a883c78f429329ca341551cfb1195178d0b8ec5088755c2"
   }
  }
 },
 "nbformat": 4,
 "nbformat_minor": 5
}
