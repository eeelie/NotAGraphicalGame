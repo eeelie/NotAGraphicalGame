{
 "cells": [
  {
   "cell_type": "markdown",
   "id": "34a41225",
   "metadata": {},
   "source": [
    "## class Ball()\n",
    "\n",
    "This class encodes a ball object with properties [ID, pocket, position, velocity]\n",
    "\n",
    "ID indicates the identity of the ball, [1,7] are one team, and [9, 15] are the other team. 8 is the eight-ball, and 0 is the cue ball\n",
    "\n",
    "pocket indicates whether the ball is in a pocket.\n",
    "\n",
    "p and v are both in the form of [x,y]"
   ]
  },
  {
   "cell_type": "code",
   "execution_count": 5,
   "id": "ce2632b3",
   "metadata": {},
   "outputs": [],
   "source": [
    "import numpy as np\n",
    "import dataclasses\n",
    "\n",
    "BALL_RADIUS = 0.06 # meters\n",
    "ACCELERATION = - 0.1 # meters/second^2\n",
    "\n",
    "@dataclasses.dataclass\n",
    "class Ball():\n",
    "    ID: int \n",
    "    pocket: bool\n",
    "    p: list[float, float]\n",
    "    v: list[float, float]\n",
    "        \n",
    "    def __init__(ID: int, x_0: float, y_0: float):\n",
    "        self.ID = ID\n",
    "        self.pocket = False\n",
    "        self.p = [x_0,y_0]\n",
    "        self.v = [0.0,0.0]\n",
    "        \n",
    "    def time_step():\n",
    "        \"steps forward position and velocity of ball\"\n",
    "        ...\n",
    "    \n",
    "    def collides_with():\n",
    "        \"returns true if ball is in collision with other ball object\"\n",
    "        ...\n",
    "    \n",
    "    def collides_with_table():\n",
    "        \"returns true if ball is touching either an edge or a pocket\"\n",
    "        ...\n",
    "    \n",
    "    def table_collision():\n",
    "        \"updates position and velocity of ball after wall/pocket interaction\"\n",
    "        ..."
   ]
  },
  {
   "cell_type": "markdown",
   "id": "c9bb0868",
   "metadata": {},
   "source": [
    "# Questions to be discussed\n",
    "Should ball radius and acceleration be defined here in the ball class or should they be variables in the contructor/time_step() methods, respectively?\n",
    "\n",
    "How should ball-to-ball collisions be handled? it makes less sense to have it as a method of the ball class because it has to modify both balls."
   ]
  },
  {
   "cell_type": "code",
   "execution_count": null,
   "id": "04a09215",
   "metadata": {},
   "outputs": [],
   "source": [
    "# TESTS\n"
   ]
  }
 ],
 "metadata": {
  "kernelspec": {
   "display_name": "Python [conda env:APC524]",
   "language": "python",
   "name": "conda-env-APC524-py"
  },
  "language_info": {
   "codemirror_mode": {
    "name": "ipython",
    "version": 3
   },
   "file_extension": ".py",
   "mimetype": "text/x-python",
   "name": "python",
   "nbconvert_exporter": "python",
   "pygments_lexer": "ipython3",
   "version": "3.10.0"
  }
 },
 "nbformat": 4,
 "nbformat_minor": 5
}
