{
 "cells": [
  {
   "cell_type": "markdown",
   "id": "34a41225",
   "metadata": {},
   "source": [
    "## class Ball()\n",
    "\n",
    "This class encodes a ball object with properties [ID, pocket, position, velocity]\n",
    "\n",
    "ID indicates the identity of the ball, [1,7] are one team, and [9, 15] are the other team. 8 is the eight-ball, and 0 is the cue ball\n",
    "\n",
    "pocket indicates whether the ball is in a pocket.\n",
    "\n",
    "p and v are both in the form of [x,y]"
   ]
  },
  {
   "cell_type": "code",
   "execution_count": null,

   "id": "ce2632b3",
   "metadata": {},
   "outputs": [],
   "source": [
    "import numpy as np\n",
    "import dataclasses\n",
    "\n",
    "\n",
    "@dataclasses.dataclass\n",
    "class Ball():\n",
    "    ID: int\n",
    "    radius: float\n",
    "    pocket: bool\n",
    "    p: list[float, float]\n",
    "    v: list[float, float]\n",
    "    team: str\n",
    "\n",
    "    def team_name(self, ID: int):\n",
    "        assert ID >= 0 and ID <= 15, \"Not a valid ball ID.\"\n",
    "\n",
    "        if ID >= 1 and ID <= 7:\n",
    "            return \"solid\"\n",
    "        elif self.ID >= 9 and self.ID <= 15:\n",
    "            return \"stripe\"\n",
    "        elif self.ID == 8:\n",
    "            return \"eight\"\n",
    "        elif self.ID == 0:\n",
    "            return \"cue\"\n",
    "\n",
    "        \n",
    "    def team_name(self, ID: int):\n",
    "        assert ID >= 0 and ID <= 15, \"Not a valid ball ID.\"\n",
    "        if ID >= 1 and ID <= 7:\n",
    "            return \"solid\"\n",
    "        elif ID >= 9 and ID <= 15:\n",
    "            return \"stripe\"\n",
    "        elif ID == 8:\n",
    "            return \"8\"\n",
    "        elif ID == 0:\n",
    "            return \"cue\"\n",
    "    \n",
    "    def __init__(self, ID: int, radius: float, x_0: float, y_0: float, vx_0: float, vy_0: float):\n",
    "        self.ID = ID\n",
    "        self.radius = radius\n",
    "        self.pocket = False\n",
    "        self.p = [x_0,y_0]\n",
    "        self.v = [vx_0,vy_0]\n",
    "        self.team = self.team_name(ID)\n",
    "\n",
    "\n",
    "    def time_step(self, dx):\n",
    "        ACCELERATION = - 0.1 # meters/second^2\n",
    "        \"steps forward position and velocity of ball\"\n",
    "        p_new = [self.p[0] + self.v[0]*dx + 0.5*ACCELERATION*dx*dx, self.p[1] + self.v[1]*dx + 0.5*ACCELERATION*dx*dx]\n",
    "        v_new = [self.v[0]+ACCELERATION*dx, self.v[1]+ACCELERATION*dx]\n",
    "        return p_new, v_new\n",
    "    \n",
    "    def collides_with(self,other) -> bool :\n",
    "        \"returns true if ball is in collision with other ball object\"\n",
    "        dist = ((self.p[0]-other.p[0])**2+(self.p[1]-other.p[1])**2)**0.5\n",
    "        if dist <= self.radius+other.radius:\n",
    "            return True\n",
    "        else:\n",
    "            return False\n",
    "    \n",
    "    def collides_with_table(self, w: float, h: float) -> bool :\n",
    "        \"returns true if ball is touching either an edge or a pocket\"\n",
    "        if self.p[0]+self.radius >= w/2:\n",
    "            return True\n",
    "        elif self.p[0]-self.radius <= -w/2:\n",
    "            return True\n",
    "        elif self.p[1]+self.radius >= h/2:\n",
    "            return True\n",
    "        elif self.p[1]-self.radius <= -h/2:\n",
    "            return True\n",
    "        else:\n",
    "            return False\n"
   ]
  },
  {
   "cell_type": "markdown",
   "id": "c9bb0868",
   "metadata": {},
   "source": [
    "# Questions to be discussed\n",
    "Should ball radius and acceleration be defined here in the ball class or should they be variables in the contructor/time_step() methods, respectively?\n",
    "\n",
    "How should ball-to-ball collisions be handled? it makes less sense to have it as a method of the ball class because it has to modify both balls."
   ]
  },
  {
   "cell_type": "code",
   "execution_count": null,
   "id": "04a09215",
   "metadata": {},
   "outputs": [],
   "source": [
    "# TESTS\n",
    "# Test time step\n",
    "\n",
    "# Test collides_with\n",
    "B1 = Ball(1,0.5,0,0,0,0)\n",
    "B2 = Ball(2,0.5,0,1,0,0)\n",
    "B1.collides_with(B2)\n",
    "\n",
    "# Test collides_with_table\n",
    "\n",
    "# Test team ID\n",
    "cue_ball = Ball(0,0.5,0,0,0,0)\n",
    "cue_ball.team_name()\n",
    "not_a_ball = Ball(-1,0.5,0,0,0,0)"
   ]
  },
  {
   "cell_type": "code",
   "execution_count": null,
   "outputs": [],
   "source": [],
   "metadata": {
    "collapsed": false
   }
  }
 ],
 "metadata": {
  "kernelspec": {
   "display_name": "Python 3 (ipykernel)",
   "language": "python",
   "name": "python3"
  },
  "language_info": {
   "codemirror_mode": {
    "name": "ipython",
    "version": 3
   },
   "file_extension": ".py",
   "mimetype": "text/x-python",
   "name": "python",
   "nbconvert_exporter": "python",
   "pygments_lexer": "ipython3",
   "version": "3.9.12"
  },
  "vscode": {
   "interpreter": {
    "hash": "538f7790995d27f41a883c78f429329ca341551cfb1195178d0b8ec5088755c2"
   }
  }
 },
 "nbformat": 4,
 "nbformat_minor": 5
}
