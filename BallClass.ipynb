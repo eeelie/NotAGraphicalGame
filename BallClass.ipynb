{
 "cells": [
  {
   "cell_type": "markdown",
   "id": "cb9a5867",
   "metadata": {},
   "source": [
    "## class Ball\n",
    "\n",
    "This class encodes a ball object with properties [team, number, pocket, position, velocity]"
   ]
  },
  {
   "cell_type": "code",
   "execution_count": 4,
   "id": "467962fd",
   "metadata": {},
   "outputs": [],
   "source": [
    "import numpy as np\n",
    "import dataclasses\n",
    "\n",
    "\n",
    "@dataclasses.dataclass\n",
    "class Ball():\n",
    "    team: bool\n",
    "    number: int\n",
    "    pocket: int\n",
    "    p: tuple[float, float]\n",
    "    v: tuple[float, float]"
   ]
  },
  {
   "cell_type": "code",
   "execution_count": null,
   "id": "284ddcff",
   "metadata": {},
   "outputs": [],
   "source": []
  }
 ],
 "metadata": {
  "kernelspec": {
   "display_name": "Python [conda env:APC524]",
   "language": "python",
   "name": "conda-env-APC524-py"
  },
  "language_info": {
   "codemirror_mode": {
    "name": "ipython",
    "version": 3
   },
   "file_extension": ".py",
   "mimetype": "text/x-python",
   "name": "python",
   "nbconvert_exporter": "python",
   "pygments_lexer": "ipython3",
   "version": "3.10.0"
  }
 },
 "nbformat": 4,
 "nbformat_minor": 5
}
